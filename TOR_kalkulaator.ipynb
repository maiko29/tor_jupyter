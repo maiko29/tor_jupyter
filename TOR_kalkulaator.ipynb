{
 "cells": [
  {
   "cell_type": "markdown",
   "id": "de1baded",
   "metadata": {},
   "source": [
    "Käesolev Jupyter Notebook on TÖR päringu masinloetava vastuse **töötlemiseks**."
   ]
  },
  {
   "cell_type": "code",
   "execution_count": 15,
   "id": "708a2146",
   "metadata": {
    "slideshow": {
     "slide_type": "-"
    }
   },
   "outputs": [
    {
     "name": "stdout",
     "output_type": "stream",
     "text": [
      "        # #                \n",
      "#####   ###   ####          #              ##    #              ##                   #                  \n",
      "  #    #   #  #   #         #               #    #               #                   #                  \n",
      "  #    #   #  #   #         #   #   ###     #    #   #  #   #    #     ###    ###   ####    ###   # ##  \n",
      "  #    #   #  ####          #  #       #    #    #  #   #   #    #        #      #   #     #   #  ##  # \n",
      "  #    #   #  # #           ###     ####    #    ###    #   #    #     ####   ####   #     #   #  #     \n",
      "  #    #   #  #  #          #  #   #   #    #    #  #   #  ##    #    #   #  #   #   #  #  #   #  #     \n",
      "  #     ###   #   #         #   #   ####   ###   #   #   ## #   ###    ####   ####    ##    ###   #     \n",
      "\n",
      "Autor: maiko punkt motsar [ät] politsei punkt ee\n",
      "\n",
      "Kleebi misp2 TÖR päringu masinloetav vastus ja vajuta 2x <ENTER>:\n",
      "\n",
      "<SOAP-ENV:Envelope xmlns:SOAP-ENV=\"http://schemas.xmlsoap.org/soap/envelope/\" xmlns:SOAP-ENC=\"http://schemas.xmlsoap.org/soap/encoding/\" xmlns:iden=\"http://x-road.eu/xsd/identifiers\" xmlns:ns5=\"http://emta-v6.x-road.eu\" xmlns:xrd=\"http://x-road.eu/xsd/xroad.xsd\" xmlns:xsd=\"http://www.w3.org/2001/XMLSchema\" xmlns:xsi=\"http://www.w3.org/2001/XMLSchema-instance\" SOAP-ENV:encodingStyle=\"http://schemas.xmlsoap.org/soap/encoding/\"> \t<SOAP-ENV:Header> \t\t<xrd:protocolVersion>4.0</xrd:protocolVersion> \t\t<xrd:id>5b8dea146c3e0566c500b51e91b9faffb5ecd8ed</xrd:id> \t\t<xrd:requestHash algorithmId=\"http://www.w3.org/2001/04/xmlenc#sha512\">nOwtJHTMD+A5TUk5wygha8OH90DaO9bUobhHdnBOkiiIIO+wyI/b943BkN8BGUvxgrgX2DZ9T4p784X/8Ace0Q==</xrd:requestHash> \t\t<xrd:userId>EE38304296529</xrd:userId> \t\t<xrd:issue/> \t\t<xrd:service iden:objectType=\"SERVICE\"> \t\t\t<iden:xRoadInstance>EE</iden:xRoadInstance> \t\t\t<iden:memberClass>GOV</iden:memberClass> \t\t\t<iden:memberCode>70000349</iden:memberCode> \t\t\t<iden:subsystemCode>tor</iden:subsystemCode> \t\t\t<iden:serviceCode>TORIK</iden:serviceCode> \t\t\t<iden:serviceVersion>v2</iden:serviceVersion> \t\t</xrd:service> \t\t<xrd:client iden:objectType=\"SUBSYSTEM\"> \t\t\t<iden:xRoadInstance>EE</iden:xRoadInstance> \t\t\t<iden:memberClass>GOV</iden:memberClass> \t\t\t<iden:memberCode>70008747</iden:memberCode> \t\t\t<iden:subsystemCode>70008747-misp</iden:subsystemCode> \t\t</xrd:client> \t</SOAP-ENV:Header> \t<SOAP-ENV:Body> \t\t<ns5:TORIKResponse xmlns:ns9=\"http://x-road.eu/xsd/representation.xsd\"> \t\t\t<request> \t\t\t\t<paringu_liik>T</paringu_liik> \t\t\t\t<toot_algus>2020-01-01</toot_algus> \t\t\t\t<toot_lopp>2021-08-06</toot_lopp> \t\t\t\t<isikukoodid>38304296529</isikukoodid> \t\t\t</request> \t\t\t<response> \t\t\t\t<kood>0</kood> \t\t\t\t<leitud_kannete_arv>11</leitud_kannete_arv> \t\t\t\t<kannete_jada> \t\t\t\t\t<kanne> \t\t\t\t\t\t<toot_id>1961464</toot_id> \t\t\t\t\t\t<isikukood>38304296529</isikukood> \t\t\t\t\t\t<synniaeg>1983-04-29</synniaeg> \t\t\t\t\t\t<perenimi>MÕTSAR</perenimi> \t\t\t\t\t\t<eesnimi>MAIKO</eesnimi> \t\t\t\t\t\t<kodakondsus_kood>UKR</kodakondsus_kood> \t\t\t\t\t\t<kodakondsus_nimi>Ukraina</kodakondsus_nimi> \t\t\t\t\t\t<ta_kood>12589937</ta_kood> \t\t\t\t\t\t<ta_nimi>OÜ IT AIAND</ta_nimi> \t\t\t\t\t\t<tootamise_algus>2017-06-01</tootamise_algus> \t\t\t\t\t\t<tootamise_liik_kood>1</tootamise_liik_kood> \t\t\t\t\t\t<tootamise_liik_nimi>Tööleping</tootamise_liik_nimi> \t\t\t\t\t\t<tootamise_lopp>2017-06-30</tootamise_lopp> \t\t\t\t\t\t<tootamise_lopetamise_alus_kood>1301</tootamise_lopetamise_alus_kood> \t\t\t\t\t\t<tootamise_lopetamise_alus_nimi>TLS § 79 poolte kokkuleppel</tootamise_lopetamise_alus_nimi> \t\t\t\t\t\t<kande_olek_kood>4</kande_olek_kood> \t\t\t\t\t\t<kande_olek_nimi>Lõpetatud</kande_olek_nimi> \t\t\t\t\t\t<sisestamise_aeg>2017-06-01T12:48:01.000+03:00</sisestamise_aeg> \t\t\t\t\t\t<muutmise_aeg>2017-07-11T08:53:51.000+03:00</muutmise_aeg> \t\t\t\t\t\t<toot_ehk_aeg>2017-07-12</toot_ehk_aeg> \t\t\t\t\t\t<toot_ehk_sonumi_liik>I</toot_ehk_sonumi_liik> \t\t\t\t\t</kanne> \t\t\t\t\t<kanne> \t\t\t\t\t\t<toot_id>2025509</toot_id> \t\t\t\t\t\t<isikukood>38304296529</isikukood> \t\t\t\t\t\t<synniaeg>1983-04-29</synniaeg> \t\t\t\t\t\t<perenimi>MÕTSAR</perenimi> \t\t\t\t\t\t<eesnimi>MAIKO</eesnimi> \t\t\t\t\t\t<kodakondsus_kood>UKR</kodakondsus_kood> \t\t\t\t\t\t<kodakondsus_nimi>Ukraina</kodakondsus_nimi> \t\t\t\t\t\t<ta_kood>12099044</ta_kood> \t\t\t\t\t\t<ta_nimi>ANNELI, OÜ</ta_nimi> \t\t\t\t\t\t<tootamise_algus>2017-07-03</tootamise_algus> \t\t\t\t\t\t<tootamise_liik_kood>507</tootamise_liik_kood> \t\t\t\t\t\t<tootamise_liik_nimi>Viisa alusel - tööleping</tootamise_liik_nimi> \t\t\t\t\t\t<tootamise_lopp>2017-09-30</tootamise_lopp> \t\t\t\t\t\t<tootamise_lopetamise_alus_kood>1201</tootamise_lopetamise_alus_kood> \t\t\t\t\t\t<tootamise_lopetamise_alus_nimi>TLS § 80 lg 1 tähtaja möödumine</tootamise_lopetamise_alus_nimi> \t\t\t\t\t\t<amet_kood>9214</amet_kood> \t\t\t\t\t\t<amet_nimi>Aianduse lihttöölised</amet_nimi> \t\t\t\t\t\t<kande_olek_kood>4</kande_olek_kood> \t\t\t\t\t\t<kande_olek_nimi>Lõpetatud</kande_olek_nimi> \t\t\t\t\t\t<sisestamise_aeg>2017-07-09T16:40:46.000+03:00</sisestamise_aeg> \t\t\t\t\t\t<muutmise_aeg>2017-10-01T01:02:26.000+03:00</muutmise_aeg> \t\t\t\t\t\t<toot_ehk_aeg>2017-08-31</toot_ehk_aeg> \t\t\t\t\t\t<toot_ehk_sonumi_liik>K</toot_ehk_sonumi_liik> \t\t\t\t\t</kanne> \t\t\t\t\t<kanne> \t\t\t\t\t\t<toot_id>2490058</toot_id> \t\t\t\t\t\t<isikukood>38304296529</isikukood> \t\t\t\t\t\t<synniaeg>1983-04-29</synniaeg> \t\t\t\t\t\t<perenimi>MÕTSAR</perenimi> \t\t\t\t\t\t<eesnimi>MAIKO</eesnimi> \t\t\t\t\t\t<kodakondsus_kood>UKR</kodakondsus_kood> \t\t\t\t\t\t<kodakondsus_nimi>Ukraina</kodakondsus_nimi> \t\t\t\t\t\t<ta_kood>12099044</ta_kood> \t\t\t\t\t\t<ta_nimi>ANNELI, OÜ</ta_nimi> \t\t\t\t\t\t<tootamise_algus>2018-06-19</tootamise_algus> \t\t\t\t\t\t<tootamise_liik_kood>507</tootamise_liik_kood> \t\t\t\t\t\t<tootamise_liik_nimi>Viisa alusel - tööleping</tootamise_liik_nimi> \t\t\t\t\t\t<tootamise_lopp>2018-09-04</tootamise_lopp> \t\t\t\t\t\t<tootamise_lopetamise_alus_kood>1301</tootamise_lopetamise_alus_kood> \t\t\t\t\t\t<tootamise_lopetamise_alus_nimi>TLS § 79 poolte kokkuleppel</tootamise_lopetamise_alus_nimi> \t\t\t\t\t\t<koht_id>3224756</koht_id> \t\t\t\t\t\t<koht>Viljandi maakond, Mulgi vald, Vana-Kariste küla, Anneli</koht> \t\t\t\t\t\t<riigi_kood>EE</riigi_kood> \t\t\t\t\t\t<kande_olek_kood>4</kande_olek_kood> \t\t\t\t\t\t<kande_olek_nimi>Lõpetatud</kande_olek_nimi> \t\t\t\t\t\t<sisestamise_aeg>2018-06-18T23:20:57.000+03:00</sisestamise_aeg> \t\t\t\t\t\t<muutmise_aeg>2019-04-25T15:45:06.000+03:00</muutmise_aeg> \t\t\t\t\t\t<toot_ehk_aeg>2018-09-01</toot_ehk_aeg> \t\t\t\t\t\t<toot_ehk_sonumi_liik>K</toot_ehk_sonumi_liik> \t\t\t\t\t</kanne> \t\t\t\t\t<kanne> \t\t\t\t\t\t<toot_id>2606915</toot_id> \t\t\t\t\t\t<isikukood>38304296529</isikukood> \t\t\t\t\t\t<synniaeg>1983-04-29</synniaeg> \t\t\t\t\t\t<perenimi>MÕTSAR</perenimi> \t\t\t\t\t\t<eesnimi>MAIKO</eesnimi> \t\t\t\t\t\t<kodakondsus_kood>UKR</kodakondsus_kood> \t\t\t\t\t\t<kodakondsus_nimi>Ukraina</kodakondsus_nimi> \t\t\t\t\t\t<ta_kood>36208216523</ta_kood> \t\t\t\t\t\t<ta_nimi>JAASKA, ANDRES</ta_nimi> \t\t\t\t\t\t<tootamise_algus>2018-09-05</tootamise_algus> \t\t\t\t\t\t<tootamise_liik_kood>1</tootamise_liik_kood> \t\t\t\t\t\t<tootamise_liik_nimi>Tööleping</tootamise_liik_nimi> \t\t\t\t\t\t<tootamise_lopp>2018-10-11</tootamise_lopp> \t\t\t\t\t\t<tootamise_lopetamise_alus_kood>1301</tootamise_lopetamise_alus_kood> \t\t\t\t\t\t<tootamise_lopetamise_alus_nimi>TLS § 79 poolte kokkuleppel</tootamise_lopetamise_alus_nimi> \t\t\t\t\t\t<kande_olek_kood>4</kande_olek_kood> \t\t\t\t\t\t<kande_olek_nimi>Lõpetatud</kande_olek_nimi> \t\t\t\t\t\t<sisestamise_aeg>2018-09-04T15:46:27.000+03:00</sisestamise_aeg> \t\t\t\t\t\t<muutmise_aeg>2018-10-12T01:30:41.000+03:00</muutmise_aeg> \t\t\t\t\t\t<toot_ehk_aeg>2018-10-13</toot_ehk_aeg> \t\t\t\t\t\t<toot_ehk_sonumi_liik>L</toot_ehk_sonumi_liik> \t\t\t\t\t</kanne> \t\t\t\t\t<kanne> \t\t\t\t\t\t<toot_id>2937710</toot_id> \t\t\t\t\t\t<isikukood>38304296529</isikukood> \t\t\t\t\t\t<synniaeg>1983-04-29</synniaeg> \t\t\t\t\t\t<perenimi>MÕTSAR</perenimi> \t\t\t\t\t\t<eesnimi>MAIKO</eesnimi> \t\t\t\t\t\t<kodakondsus_kood>UKR</kodakondsus_kood> \t\t\t\t\t\t<kodakondsus_nimi>Ukraina</kodakondsus_nimi> \t\t\t\t\t\t<ta_kood>11438478</ta_kood> \t\t\t\t\t\t<ta_nimi>NORD GARLIC OÜ</ta_nimi> \t\t\t\t\t\t<tootamise_algus>2019-05-07</tootamise_algus> \t\t\t\t\t\t<tootamise_liik_kood>507</tootamise_liik_kood> \t\t\t\t\t\t<tootamise_liik_nimi>Viisa alusel - tööleping</tootamise_liik_nimi> \t\t\t\t\t\t<tooaja_maar>1.00</tooaja_maar> \t\t\t\t\t\t<tootamise_lopp>2019-06-21</tootamise_lopp> \t\t\t\t\t\t<tootamise_lopetamise_alus_kood>9996</tootamise_lopetamise_alus_kood> \t\t\t\t\t\t<tootamise_lopetamise_alus_nimi>Välisriigi töölepingu lõpetamine</tootamise_lopetamise_alus_nimi> \t\t\t\t\t\t<amet_kood>92110004</amet_kood> \t\t\t\t\t\t<amet_nimi>Põllutööline</amet_nimi> \t\t\t\t\t\t<koht_id>3377731</koht_id> \t\t\t\t\t\t<koht>Jõgeva maakond, Põltsamaa vald, Uuevälja küla, Uueaida</koht> \t\t\t\t\t\t<riigi_kood>EE</riigi_kood> \t\t\t\t\t\t<kande_olek_kood>4</kande_olek_kood> \t\t\t\t\t\t<kande_olek_nimi>Lõpetatud</kande_olek_nimi> \t\t\t\t\t\t<sisestamise_aeg>2019-05-10T12:26:38.000+03:00</sisestamise_aeg> \t\t\t\t\t\t<muutmise_aeg>2019-06-25T09:00:51.000+03:00</muutmise_aeg> \t\t\t\t\t\t<toot_ehk_aeg>2019-06-26</toot_ehk_aeg> \t\t\t\t\t\t<toot_ehk_sonumi_liik>L</toot_ehk_sonumi_liik> \t\t\t\t\t</kanne> \t\t\t\t\t<kanne> \t\t\t\t\t\t<toot_id>3027000</toot_id> \t\t\t\t\t\t<isikukood>38304296529</isikukood> \t\t\t\t\t\t<synniaeg>1983-04-29</synniaeg> \t\t\t\t\t\t<perenimi>MÕTSAR</perenimi> \t\t\t\t\t\t<eesnimi>MAIKO</eesnimi> \t\t\t\t\t\t<kodakondsus_kood>UKR</kodakondsus_kood> \t\t\t\t\t\t<kodakondsus_nimi>Ukraina</kodakondsus_nimi> \t\t\t\t\t\t<ta_kood>12099044</ta_kood> \t\t\t\t\t\t<ta_nimi>ANNELI, OÜ</ta_nimi> \t\t\t\t\t\t<tootamise_algus>2019-09-03</tootamise_algus> \t\t\t\t\t\t<tootamise_liik_kood>602</tootamise_liik_kood> \t\t\t\t\t\t<tootamise_liik_nimi>Viisa alusel - VÕS leping</tootamise_liik_nimi> \t\t\t\t\t\t<tootamise_lopp>2019-09-06</tootamise_lopp> \t\t\t\t\t\t<tootamise_lopetamise_alus_kood>5601</tootamise_lopetamise_alus_kood> \t\t\t\t\t\t<tootamise_lopetamise_alus_nimi>Võlaõigusliku lepingu lõppemine</tootamise_lopetamise_alus_nimi> \t\t\t\t\t\t<amet_kood>92140001</amet_kood> \t\t\t\t\t\t<amet_nimi>Aianduse lihttööline</amet_nimi> \t\t\t\t\t\t<koht_id>3224756</koht_id> \t\t\t\t\t\t<koht>Viljandi maakond, Mulgi vald, Vana-Kariste küla, Anneli</koht> \t\t\t\t\t\t<riigi_kood>EE</riigi_kood> \t\t\t\t\t\t<kande_olek_kood>4</kande_olek_kood> \t\t\t\t\t\t<kande_olek_nimi>Lõpetatud</kande_olek_nimi> \t\t\t\t\t\t<sisestamise_aeg>2019-06-30T23:53:37.000+03:00</sisestamise_aeg> \t\t\t\t\t\t<muutmise_aeg>2019-09-07T01:30:20.000+03:00</muutmise_aeg> \t\t\t\t\t</kanne> \t\t\t\t\t<kanne> \t\t\t\t\t\t<toot_id>3142242</toot_id> \t\t\t\t\t\t<isikukood>38304296529</isikukood> \t\t\t\t\t\t<synniaeg>1983-04-29</synniaeg> \t\t\t\t\t\t<perenimi>MÕTSAR</perenimi> \t\t\t\t\t\t<eesnimi>MAIKO</eesnimi> \t\t\t\t\t\t<kodakondsus_kood>UKR</kodakondsus_kood> \t\t\t\t\t\t<kodakondsus_nimi>Ukraina</kodakondsus_nimi> \t\t\t\t\t\t<ta_kood>31234567890</ta_kood> \t\t\t\t\t\t<ta_nimi>TAMMIK, TAUNO</ta_nimi> \t\t\t\t\t\t<tootamise_algus>2019-09-19</tootamise_algus> \t\t\t\t\t\t<tootamise_liik_kood>1</tootamise_liik_kood> \t\t\t\t\t\t<tootamise_liik_nimi>Tööleping</tootamise_liik_nimi> \t\t\t\t\t\t<tooaja_maar>1.00</tooaja_maar> \t\t\t\t\t\t<tootamise_lopp>2019-12-31</tootamise_lopp> \t\t\t\t\t\t<tootamise_lopetamise_alus_kood>1301</tootamise_lopetamise_alus_kood> \t\t\t\t\t\t<tootamise_lopetamise_alus_nimi>TLS § 79 poolte kokkuleppel</tootamise_lopetamise_alus_nimi> \t\t\t\t\t\t<amet_kood>9211</amet_kood> \t\t\t\t\t\t<amet_nimi>Taimekasvatuse lihttöölised</amet_nimi> \t\t\t\t\t\t<koht_id>3225359</koht_id> \t\t\t\t\t\t<koht>Võru maakond, Võru vald, Tagaküla, Kunglamäe</koht> \t\t\t\t\t\t<riigi_kood>EE</riigi_kood> \t\t\t\t\t\t<peatamiste_jada> \t\t\t\t\t\t\t<peatamine> \t\t\t\t\t\t\t\t<peat_id>168757</peat_id> \t\t\t\t\t\t\t\t<peat_algus>2019-09-21</peat_algus> \t\t\t\t\t\t\t\t<peat_alus_kood>3</peat_alus_kood> \t\t\t\t\t\t\t\t<peat_alus_nimi>Tasustamata puhkus</peat_alus_nimi> \t\t\t\t\t\t\t\t<peat_lopp>2019-10-26</peat_lopp> \t\t\t\t\t\t\t</peatamine> \t\t\t\t\t\t\t<peatamine> \t\t\t\t\t\t\t\t<peat_id>175220</peat_id> \t\t\t\t\t\t\t\t<peat_algus>2019-11-05</peat_algus> \t\t\t\t\t\t\t\t<peat_alus_kood>3</peat_alus_kood> \t\t\t\t\t\t\t\t<peat_alus_nimi>Tasustamata puhkus</peat_alus_nimi> \t\t\t\t\t\t\t\t<peat_lopp>2019-11-12</peat_lopp> \t\t\t\t\t\t\t</peatamine> \t\t\t\t\t\t</peatamiste_jada> \t\t\t\t\t\t<kande_olek_kood>4</kande_olek_kood> \t\t\t\t\t\t<kande_olek_nimi>Lõpetatud</kande_olek_nimi> \t\t\t\t\t\t<sisestamise_aeg>2019-09-13T08:53:35.000+03:00</sisestamise_aeg> \t\t\t\t\t\t<muutmise_aeg>2019-11-14T08:55:08.000+02:00</muutmise_aeg> \t\t\t\t\t\t<toot_ehk_aeg>2019-11-15</toot_ehk_aeg> \t\t\t\t\t\t<toot_ehk_sonumi_liik>L</toot_ehk_sonumi_liik> \t\t\t\t\t</kanne> \t\t\t\t\t<kanne> \t\t\t\t\t\t<toot_id>3486114</toot_id> \t\t\t\t\t\t<isikukood>38304296529</isikukood> \t\t\t\t\t\t<synniaeg>1983-04-29</synniaeg> \t\t\t\t\t\t<perenimi>MÕTSAR</perenimi> \t\t\t\t\t\t<eesnimi>MAIKO</eesnimi> \t\t\t\t\t\t<kodakondsus_kood>UKR</kodakondsus_kood> \t\t\t\t\t\t<kodakondsus_nimi>Ukraina</kodakondsus_nimi> \t\t\t\t\t\t<ta_kood>12099044</ta_kood> \t\t\t\t\t\t<ta_nimi>ANNELI, OÜ</ta_nimi> \t\t\t\t\t\t<tootamise_algus>2020-07-13</tootamise_algus> \t\t\t\t\t\t<tootamise_liik_kood>1</tootamise_liik_kood> \t\t\t\t\t\t<tootamise_liik_nimi>Tööleping</tootamise_liik_nimi> \t\t\t\t\t\t<tooaja_maar>1.00</tooaja_maar> \t\t\t\t\t\t<tootamise_lopp>2020-08-31</tootamise_lopp> \t\t\t\t\t\t<tootamise_lopetamise_alus_kood>1301</tootamise_lopetamise_alus_kood> \t\t\t\t\t\t<tootamise_lopetamise_alus_nimi>TLS § 79 poolte kokkuleppel</tootamise_lopetamise_alus_nimi> \t\t\t\t\t\t<amet_kood>92140001</amet_kood> \t\t\t\t\t\t<amet_nimi>Aianduse lihttööline</amet_nimi> \t\t\t\t\t\t<koht_id>3224756</koht_id> \t\t\t\t\t\t<koht>Viljandi maakond, Mulgi vald, Vana-Kariste küla, Anneli</koht> \t\t\t\t\t\t<riigi_kood>EE</riigi_kood> \t\t\t\t\t\t<kande_olek_kood>4</kande_olek_kood> \t\t\t\t\t\t<kande_olek_nimi>Lõpetatud</kande_olek_nimi> \t\t\t\t\t\t<sisestamise_aeg>2020-07-10T18:01:51.000+03:00</sisestamise_aeg> \t\t\t\t\t\t<muutmise_aeg>2020-09-10T18:16:44.000+03:00</muutmise_aeg> \t\t\t\t\t\t<toot_ehk_aeg>2020-09-11</toot_ehk_aeg> \t\t\t\t\t\t<toot_ehk_sonumi_liik>I</toot_ehk_sonumi_liik> \t\t\t\t\t</kanne> \t\t\t\t\t<kanne> \t\t\t\t\t\t<toot_id>3604848</toot_id> \t\t\t\t\t\t<isikukood>38304296529</isikukood> \t\t\t\t\t\t<synniaeg>1983-04-29</synniaeg> \t\t\t\t\t\t<perenimi>MÕTSAR</perenimi> \t\t\t\t\t\t<eesnimi>MAIKO</eesnimi> \t\t\t\t\t\t<kodakondsus_kood>UKR</kodakondsus_kood> \t\t\t\t\t\t<kodakondsus_nimi>Ukraina</kodakondsus_nimi> \t\t\t\t\t\t<ta_kood>12645541</ta_kood> \t\t\t\t\t\t<ta_nimi>AICO SERVICE OÜ</ta_nimi> \t\t\t\t\t\t<tootamise_algus>2020-10-06</tootamise_algus> \t\t\t\t\t\t<tootamise_liik_kood>507</tootamise_liik_kood> \t\t\t\t\t\t<tootamise_liik_nimi>Viisa alusel - tööleping</tootamise_liik_nimi> \t\t\t\t\t\t<tooaja_maar>1.00</tooaja_maar> \t\t\t\t\t\t<tootamise_lopp>2020-10-19</tootamise_lopp> \t\t\t\t\t\t<tootamise_lopetamise_alus_kood>1301</tootamise_lopetamise_alus_kood> \t\t\t\t\t\t<tootamise_lopetamise_alus_nimi>TLS § 79 poolte kokkuleppel</tootamise_lopetamise_alus_nimi> \t\t\t\t\t\t<amet_kood>93290005</amet_kood> \t\t\t\t\t\t<amet_nimi>Koostamislihttööline</amet_nimi> \t\t\t\t\t\t<koht_id>3270319</koht_id> \t\t\t\t\t\t<koht>Viljandi maakond, Mulgi vald, Abja-Paluoja linn, Kaare tn 13</koht> \t\t\t\t\t\t<riigi_kood>EE</riigi_kood> \t\t\t\t\t\t<kande_olek_kood>4</kande_olek_kood> \t\t\t\t\t\t<kande_olek_nimi>Lõpetatud</kande_olek_nimi> \t\t\t\t\t\t<sisestamise_aeg>2020-10-07T13:41:41.000+03:00</sisestamise_aeg> \t\t\t\t\t\t<muutmise_aeg>2020-10-20T10:22:40.000+03:00</muutmise_aeg> \t\t\t\t\t\t<toot_ehk_aeg>2020-10-21</toot_ehk_aeg> \t\t\t\t\t\t<toot_ehk_sonumi_liik>I</toot_ehk_sonumi_liik> \t\t\t\t\t</kanne> \t\t\t\t\t<kanne> \t\t\t\t\t\t<toot_id>3929103</toot_id> \t\t\t\t\t\t<isikukood>38304296529</isikukood> \t\t\t\t\t\t<synniaeg>1983-04-29</synniaeg> \t\t\t\t\t\t<perenimi>MÕTSAR</perenimi> \t\t\t\t\t\t<eesnimi>MAIKO</eesnimi> \t\t\t\t\t\t<kodakondsus_kood>UKR</kodakondsus_kood> \t\t\t\t\t\t<kodakondsus_nimi>Ukraina</kodakondsus_nimi> \t\t\t\t\t\t<ta_kood>16152551</ta_kood> \t\t\t\t\t\t<ta_nimi>METSAKURU GRUPP OÜ</ta_nimi> \t\t\t\t\t\t<tootamise_algus>2021-05-19</tootamise_algus> \t\t\t\t\t\t<tootamise_liik_kood>600</tootamise_liik_kood> \t\t\t\t\t\t<tootamise_liik_nimi>VÕS leping</tootamise_liik_nimi> \t\t\t\t\t\t<tootamise_lopp>2021-06-30</tootamise_lopp> \t\t\t\t\t\t<tootamise_lopetamise_alus_kood>5601</tootamise_lopetamise_alus_kood> \t\t\t\t\t\t<tootamise_lopetamise_alus_nimi>Võlaõigusliku lepingu lõppemine</tootamise_lopetamise_alus_nimi> \t\t\t\t\t\t<amet_kood>92140001</amet_kood> \t\t\t\t\t\t<amet_nimi>Aianduse lihttööline</amet_nimi> \t\t\t\t\t\t<koht_id>3240048</koht_id> \t\t\t\t\t\t<koht>Viljandi maakond, Mulgi vald, Tilla küla, Metsakuru</koht> \t\t\t\t\t\t<riigi_kood>EE</riigi_kood> \t\t\t\t\t\t<kande_olek_kood>4</kande_olek_kood> \t\t\t\t\t\t<kande_olek_nimi>Lõpetatud</kande_olek_nimi> \t\t\t\t\t\t<sisestamise_aeg>2021-05-24T18:26:01.000+03:00</sisestamise_aeg> \t\t\t\t\t\t<muutmise_aeg>2021-07-01T01:30:14.000+03:00</muutmise_aeg> \t\t\t\t\t</kanne> \t\t\t\t\t<kanne> \t\t\t\t\t\t<toot_id>4009632</toot_id> \t\t\t\t\t\t<isikukood>38304296529</isikukood> \t\t\t\t\t\t<synniaeg>1983-04-29</synniaeg> \t\t\t\t\t\t<perenimi>MÕTSAR</perenimi> \t\t\t\t\t\t<eesnimi>MAIKO</eesnimi> \t\t\t\t\t\t<kodakondsus_kood>UKR</kodakondsus_kood> \t\t\t\t\t\t<kodakondsus_nimi>Ukraina</kodakondsus_nimi> \t\t\t\t\t\t<ta_kood>12099044</ta_kood> \t\t\t\t\t\t<ta_nimi>ANNELI, OÜ</ta_nimi> \t\t\t\t\t\t<tootamise_algus>2021-07-07</tootamise_algus> \t\t\t\t\t\t<tootamise_liik_kood>507</tootamise_liik_kood> \t\t\t\t\t\t<tootamise_liik_nimi>Viisa alusel - tööleping</tootamise_liik_nimi> \t\t\t\t\t\t<tooaja_maar>1.00</tooaja_maar> \t\t\t\t\t\t<tootamise_lopp>2021-12-31</tootamise_lopp> \t\t\t\t\t\t<tootamise_lopetamise_alus_kood>1201</tootamise_lopetamise_alus_kood> \t\t\t\t\t\t<tootamise_lopetamise_alus_nimi>TLS § 80 lg 1 tähtaja möödumine</tootamise_lopetamise_alus_nimi> \t\t\t\t\t\t<amet_kood>92140001</amet_kood> \t\t\t\t\t\t<amet_nimi>Aianduse lihttööline</amet_nimi> \t\t\t\t\t\t<koht_id>3221471</koht_id> \t\t\t\t\t\t<koht>Viljandi maakond, Mulgi vald, Vana-Kariste küla</koht> \t\t\t\t\t\t<riigi_kood>EE</riigi_kood> \t\t\t\t\t\t<kande_olek_kood>2</kande_olek_kood> \t\t\t\t\t\t<kande_olek_nimi>Kehtiv</kande_olek_nimi> \t\t\t\t\t\t<sisestamise_aeg>2021-07-07T06:26:11.000+03:00</sisestamise_aeg> \t\t\t\t\t\t<muutmise_aeg>2021-07-07T06:26:11.000+03:00</muutmise_aeg> \t\t\t\t\t\t<toot_ehk_aeg>2021-07-07</toot_ehk_aeg> \t\t\t\t\t\t<toot_ehk_sonumi_liik>K</toot_ehk_sonumi_liik> \t\t\t\t\t</kanne> \t\t\t\t</kannete_jada> \t\t\t</response> \t\t</ns5:TORIKResponse> \t</SOAP-ENV:Body> </SOAP-ENV:Envelope>\n",
      "\n",
      "Päringu sisend: 38304296529\n",
      "Töötamise algus: 01.01.2020\n",
      "Töötamise lõpp: 06.08.2021\n",
      "\n",
      "\n",
      "\u001b[33m1961464\t01.06.2017\t30.06.2017\t30\t30\tLõpetatud\tOÜ IT AIAND\t12589937\t\u001b[31m\u001b[0m\n",
      "\u001b[33m2025509\t03.07.2017\t30.09.2017\t90\t90\tLõpetatud\tANNELI, OÜ\t12099044\t\u001b[31m\u001b[0m\n",
      "\u001b[33m2490058\t19.06.2018\t04.09.2018\t78\t78\tLõpetatud\tANNELI, OÜ\t12099044\t\u001b[31m\u001b[0m\n",
      "\u001b[33m2606915\t05.09.2018\t11.10.2018\t37\t37\tLõpetatud\tJAASKA, ANDRES\t36208216523\t\u001b[31m\u001b[0m\n",
      "\u001b[33m2937710\t07.05.2019\t21.06.2019\t46\t46\tLõpetatud\tNORD GARLIC OÜ\t11438478\t\u001b[31m\u001b[0m\n",
      "\u001b[33m3027000\t03.09.2019\t06.09.2019\t4\t4\tLõpetatud\tANNELI, OÜ\t12099044\t\u001b[31m\u001b[0m\n",
      "\u001b[33m3142242\t19.09.2019\t31.12.2019\t104\t60\tLõpetatud\tTAMMIK, TAUNO\t31234567890\t\u001b[31m\u001b[0m\n",
      "\u001b[93m→168757\t21.09.2019\t26.10.2019\t-36\t0\tTasustamata puhkus\u001b[0m\n",
      "\u001b[93m→175220\t05.11.2019\t12.11.2019\t-8\t0\tTasustamata puhkus\u001b[0m\n",
      "\u001b[33m3486114\t13.07.2020\t31.08.2020\t50\t50\tLõpetatud\tANNELI, OÜ\t12099044\t\u001b[31m\u001b[0m\n",
      "\u001b[33m3604848\t06.10.2020\t19.10.2020\t14\t14\tLõpetatud\tAICO SERVICE OÜ\t12645541\t\u001b[31m\u001b[0m\n",
      "\u001b[33m3929103\t19.05.2021\t30.06.2021\t43\t43\tLõpetatud\tMETSAKURU GRUPP OÜ\t16152551\t\u001b[31m\u001b[0m\n",
      "\u001b[32m4009632\t07.07.2021\t31.12.2021\t178\t178\tKehtiv\tANNELI, OÜ\t12099044\t\u001b[31m\u001b[0m\n",
      "\n",
      "Sisendandmete põhjal on isik PÄRINGUPERIOODIL (peale töötamiste peatamiste maha arvamist) töötanud:  630  mittekattuvat (kalendri)päeva.\n",
      "\n",
      "Kas asetame eelnevad töötamisajad 365/455-päevasese perioodi? Sisesta perioodi algus- või lõpukuupäev kujul PP.KK.AAAA 14.06.2020\n",
      "\n",
      "\n",
      "455-päevane tagasiulatuv periood\t18.03.2019\t14.06.2020\t, millest töötati 110 kalendripäeva. Jääk (365 - 110) on 255 päeva.\n",
      "\n",
      "455-päevane edasiulatuv periood\t14.06.2020\t11.09.2021\t, millest töötati 174 kalendripäeva. Jääk (365 - 174) on 191 päeva.\n",
      "\n",
      "365-päevane tagasiulatuv periood\t16.06.2019\t14.06.2020\t, millest töötati 70 kalendripäeva. Jääk (270 - 70) on 200 päeva.\n",
      "\n",
      "365-päevane edasiulatuv periood\t14.06.2020\t13.06.2021\t, millest töötati 90 kalendripäeva. Jääk (270 - 90) on 180 päeva.\n",
      "\n",
      "\n",
      "Kas väljastame andmed CSV faili? (J/E) e\n"
     ]
    }
   ],
   "source": [
    "import os\n",
    "import sqlite3\n",
    "import sys\n",
    "from datetime import datetime, timedelta, date\n",
    "import pandas as pd\n",
    "from xml.etree import ElementTree\n",
    "import plotly.figure_factory as ff\n",
    "\n",
    "\n",
    "\n",
    "print(\"        # #                \")\n",
    "print(\"#####   ###   ####          #              ##    #              ##                   #                  \")\n",
    "print(\"  #    #   #  #   #         #               #    #               #                   #                  \")\n",
    "print(\"  #    #   #  #   #         #   #   ###     #    #   #  #   #    #     ###    ###   ####    ###   # ##  \")\n",
    "print(\"  #    #   #  ####          #  #       #    #    #  #   #   #    #        #      #   #     #   #  ##  # \")\n",
    "print(\"  #    #   #  # #           ###     ####    #    ###    #   #    #     ####   ####   #     #   #  #     \")\n",
    "print(\"  #    #   #  #  #          #  #   #   #    #    #  #   #  ##    #    #   #  #   #   #  #  #   #  #     \")\n",
    "print(\"  #     ###   #   #         #   #   ####   ###   #   #   ## #   ###    ####   ####    ##    ###   #     \")\n",
    "print(\"\\nAutor: maiko punkt motsar [ät] politsei punkt ee\")\n",
    "#print(\"Versioon: v.0.0.1 08.08.2021 | NB: rakendus kogub kasutusstatistikat päringute arvu kohta. Sellega on tehtud \"+str(kasutuskordi)+\" päringut.\")\n",
    "\n",
    "print(\"\\nKleebi misp2 TÖR päringu masinloetav vastus ja vajuta 2x <ENTER>:\\n\")\n",
    "\n",
    "sisend = []\n",
    "\n",
    "while True:\n",
    "    rida = input()\n",
    "    if rida:\n",
    "        sisend.append(rida)\n",
    "    else:\n",
    "        break\n",
    "\n",
    "multilineSisend = '\\n'.join(sisend)\n",
    "\n",
    "\n",
    "sisendPuu = ElementTree.fromstring(multilineSisend)\n",
    "\n",
    "# define namespace mappings to use as shorthand below\n",
    "namespaces = {\n",
    "    'soap': 'http://schemas.xmlsoap.org/soap/envelope/',\n",
    "    'a': 'http://x-road.eu/xsd/representation.xsd',\n",
    "}\n",
    "\n",
    "for päring in sisendPuu.findall('.//request'):\n",
    "    päringuSisend = {}\n",
    "    päringuSisend['isikukoodid'] = päring.find('isikukoodid').text\n",
    "    # print(päringuSisend['isikukoodid'])\n",
    "\n",
    "## väljastame päringu vastusest välja päringu sisendi andmed\n",
    "print(\"Päringu sisend: \" + sisendPuu.find('.//request').find(\n",
    "    'isikukoodid').text + \"\\nTöötamise algus: \" + datetime.strptime(\n",
    "    sisendPuu.find('.//request').find('toot_algus').text, \"%Y-%m-%d\").strftime(\n",
    "    \"%d.%m.%Y\") + \"\\nTöötamise lõpp: \" + datetime.strptime(sisendPuu.find('.//request').find('toot_lopp').text,\n",
    "                                                           \"%Y-%m-%d\").strftime(\"%d.%m.%Y\") + \"\\n\\n\")\n",
    "\n",
    "## loome hulga, kuhu kogume kokku kõikide töötamiste päevad\n",
    "kõikidelRegistreeringutelTöötamisePäevad = set()\n",
    "\n",
    "töötatudPäevadeHulkIlmaPeatamisteta = set()\n",
    "for leitud in sisendPuu.findall('.//kanne'):\n",
    "\n",
    "    ## loome sõnastiku ühe tsüklikorra kannete hoiustamiseks\n",
    "    kirjeKanded = {}\n",
    "\n",
    "    ##loome ühe registriingu päevade loendamise hulga\n",
    "    registreeringulTöötatudPäevad = set()\n",
    "\n",
    "    kirjeKanded['toot_id'] = leitud.find('toot_id').text\n",
    "    kirjeKanded['isikukood'] = leitud.find('isikukood').text\n",
    "    kirjeKanded['synniaeg'] = leitud.find('synniaeg').text\n",
    "    kirjeKanded['perenimi'] = leitud.find('perenimi').text\n",
    "    kirjeKanded['eesnimi'] = leitud.find('eesnimi').text\n",
    "    kirjeKanded['kodakondsus_kood'] = leitud.find('kodakondsus_kood').text\n",
    "    kirjeKanded['kodakondsus_nimi'] = leitud.find('kodakondsus_nimi').text\n",
    "    kirjeKanded['ta_kood'] = leitud.find('ta_kood').text\n",
    "    kirjeKanded['ta_nimi'] = leitud.find('ta_nimi').text\n",
    "    kirjeKanded['tootamise_liik_kood'] = leitud.find('tootamise_liik_kood').text\n",
    "    kirjeKanded['tootamise_liik_nimi'] = leitud.find('tootamise_liik_nimi').text\n",
    "    if (leitud.find('leping')):\n",
    "        kirjeKanded['leping'] = leitud.find('leping').text\n",
    "    if (leitud.find('tootamise_lopetamise_alus_kood')):\n",
    "        kirjeKanded['tootamise_lopetamise_alus_kood'] = leitud.find('tootamise_lopetamise_alus_kood').text\n",
    "    if (leitud.find('tootamise_lopetamise_alus_nimi')):\n",
    "        kirjeKanded['tootamise_lopetamise_alus_nimi'] = leitud.find('tootamise_lopetamise_alus_nimi').text\n",
    "    if (leitud.find('riigi_kood')):\n",
    "        kirjeKanded['riigi_kood'] = leitud.find('riigi_kood').text\n",
    "    kirjeKanded['kande_olek_kood'] = leitud.find('kande_olek_kood').text\n",
    "    kirjeKanded['kande_olek_nimi'] = leitud.find('kande_olek_nimi').text\n",
    "    if (leitud.find('ta_markus')):\n",
    "        kirjeKanded['ta_markus'] = leitud.find('ta_markus').text\n",
    "    if (leitud.find('mta_markus')):\n",
    "        kirjeKanded['mta_markus'] = leitud.find('mta_markus').text\n",
    "    kirjeKanded['sisestamise_aeg'] = leitud.find('sisestamise_aeg').text\n",
    "    kirjeKanded['muutmise_aeg'] = leitud.find('muutmise_aeg').text\n",
    "    if (leitud.find('reg_tel_nr')):\n",
    "        kirjeKanded['reg_tel_nr'] = leitud.find('reg_tel_nr').text\n",
    "    kirjeKanded['parsimisMärkus'] = ''\n",
    "\n",
    "    kirjeKanded['tootamise_algus'] = datetime.strptime(leitud.find('tootamise_algus').text, \"%Y-%m-%d\")\n",
    "\n",
    "    if (leitud.find('tootamise_lopp') != None):\n",
    "        kirjeKanded['tootamise_lopp'] = datetime.strptime(leitud.find('tootamise_lopp').text, \"%Y-%m-%d\")\n",
    "    else:\n",
    "        kirjeKanded['tootamise_lopp'] = datetime.strptime(\"2021-08-07\", \"%Y-%m-%d\")\n",
    "        kirjeKanded['parsimisMärkus'] = kirjeKanded[\n",
    "                                            'parsimisMärkus'] + \"| HOIATUS: lõpukuupäev puudu → TÄNAne kuupäeva lõpukuupäevana ! \"\n",
    "        ##print(\"hoiatus: kandel polnud lõpukuupäeva ja asendasin selle tänase kuupäevaga\")\n",
    "\n",
    "    ## loome ühest registreeringu algus ja lõpukuupäevast Pandase date range\n",
    "    registreeringuDateRange = pd.date_range(start=kirjeKanded['tootamise_algus'], end=kirjeKanded['tootamise_lopp'])\n",
    "\n",
    "    ## itereerime läbi kõik ühe registreeringu Date Range kuupäevad ja lisame need hulka registreeringulTöötatudPäevad kujul pp.kk.aaaa\n",
    "    for i in registreeringuDateRange:\n",
    "        registreeringulTöötatudPäevad.add(i.strftime(\"%d.%m.%Y\"))\n",
    "\n",
    "    ### siia tuleb mahaarvamiste arvutus\n",
    "\n",
    "    ## kontrollime, kas kanne sisaldab peatamisi. Kui jah, siis kogume need kokku eraldi listi\n",
    "    peatamisteList = []\n",
    "    peatamised = leitud.findall('.//peatamiste_jada/peatamine')\n",
    "    if peatamised is not None and len(peatamised) != 0:\n",
    "        peatatudPäevadeHulk = set()\n",
    "        for töötamisPaus in peatamised:\n",
    "            peatusKanne = {}\n",
    "            peatusKanne['peat_id'] = töötamisPaus.find('peat_id').text\n",
    "            peatusKanne['peat_algus'] = datetime.strptime(töötamisPaus.find('peat_algus').text, \"%Y-%m-%d\")\n",
    "            peatusKanne['peat_alus_kood'] = töötamisPaus.find('peat_alus_kood').text\n",
    "            peatusKanne['peat_lopp'] = datetime.strptime(töötamisPaus.find('peat_lopp').text, \"%Y-%m-%d\")\n",
    "            peatusKanne['peat_alus_nimi'] = töötamisPaus.find('peat_alus_nimi').text\n",
    "            peatusKanne['kestvus'] = len(pd.date_range(start=peatusKanne['peat_algus'], end=peatusKanne['peat_lopp']))\n",
    "\n",
    "            ## lisame peatamise päevad kujul pp.kk.aaaa kõiki ühe registreeringu peatamisi hõlmavasse hulka\n",
    "            for i in pd.date_range(start=peatusKanne['peat_algus'], end=peatusKanne['peat_lopp'], normalize=True):\n",
    "                peatatudPäevadeHulk.add(i.strftime(\"%d.%m.%Y\"))\n",
    "            ## print(len(peatatudPäevadeHulk),peatatudPäevadeHulk)\n",
    "            peatamisteList.append(peatusKanne)\n",
    "            del (peatusKanne)\n",
    "\n",
    "        ## võtame registreeringulTöötatudPäevad hulgast maha peatamiste hulga ja kustutame selle igaks juhuks seejärel ära\n",
    "        ##print(\"Kontroll, registreeringul töötatud päevade hulk ENNE peatamiste maha arvamist: \",len(registreeringulTöötatudPäevad))\n",
    "        registreeringulTöötatudPäevad = registreeringulTöötatudPäevad - peatatudPäevadeHulk\n",
    "        del (peatatudPäevadeHulk)\n",
    "\n",
    "        ##print(\"Kontroll, registreeringul töötatud päevade hulk peale peatamiste maha arvamist: \",len(registreeringulTöötatudPäevad), registreeringulTöötatudPäevad)\n",
    "\n",
    "        kirjeKanded['peatamiskanded'] = peatamisteList\n",
    "\n",
    "    ## ühe kande tegelikult töötatud päevade hulga lisamine kõikide töötamiste päevade hulgale\n",
    "    kõikidelRegistreeringutelTöötamisePäevad = kõikidelRegistreeringutelTöötamisePäevad | registreeringulTöötatudPäevad\n",
    "    ### kas on vajalik registreeringuTöötatudPäevad kustutamine või tühjendamine???\n",
    "\n",
    "    ##print(\"Töötatud päevade vahekokkuvõte: \", len(kõikidelRegistreeringutelTöötamisePäevad))\n",
    "    os.system('color')\n",
    "    tekstiVärviAlgus = \"\\x1b[33m\"\n",
    "    if (kirjeKanded['kande_olek_nimi']==\"Kehtiv\"):\n",
    "        tekstiVärviAlgus=\"\\x1b[32m\"\n",
    "\n",
    "    tekstiVärviReset = \"\\x1b[0m\"\n",
    "\n",
    "    print(tekstiVärviAlgus+kirjeKanded['toot_id'] + '\\t' + kirjeKanded['tootamise_algus'].strftime(\"%d.%m.%Y\") + \"\\t\" + kirjeKanded[\n",
    "        'tootamise_lopp'].strftime(\"%d.%m.%Y\") + \"\\t\" + str(len(registreeringuDateRange))+ \"\\t\" + str(len(registreeringulTöötatudPäevad)) + \"\\t\" + kirjeKanded[\n",
    "              'kande_olek_nimi'] + \"\\t\" + kirjeKanded['ta_nimi'] + \"\\t\" + kirjeKanded['ta_kood'] + \"\\t\\x1b[31m\" + kirjeKanded[\n",
    "              'parsimisMärkus']+'\\x1b[0m')\n",
    "    if (\"peatamiskanded\" in kirjeKanded):\n",
    "\n",
    "        for i in kirjeKanded['peatamiskanded']:\n",
    "            print('\\x1b[93m→' + i['peat_id'] + \"\\t\" + i['peat_algus'].strftime(\"%d.%m.%Y\") + \"\\t\" + i['peat_lopp'].strftime(\n",
    "                \"%d.%m.%Y\") + \"\\t-\" + str(i['kestvus'])+\"\\t0\" + \"\\t\" + i['peat_alus_nimi']+'\\x1b[0m')\n",
    "\n",
    "## kõikidelRegistreeringutelTöötamisePäevad hulgast kõikide KORDUMATUTE töötamispäevade summa väljastamine\n",
    "print(\"\\nSisendandmete põhjal on isik PÄRINGUPERIOODIL (peale töötamiste peatamiste maha arvamist) töötanud: \",\n",
    "      len(kõikidelRegistreeringutelTöötamisePäevad), \" mittekattuvat (kalendri)päeva.\")\n",
    "\n",
    "\n",
    "perioodiKuupäev = datetime.strptime(input(\n",
    "    \"\\nKas asetame eelnevad töötamisajad 365/455-päevasese perioodi? Sisesta perioodi algus- või lõpukuupäev kujul PP.KK.AAAA \"),\n",
    "                                    \"%d.%m.%Y\")\n",
    "if (perioodiKuupäev != None):\n",
    "\n",
    "    ##loome 455 päevase perioodi ettepoole\n",
    "    ette455 = pd.date_range(end=perioodiKuupäev, periods=455, normalize=True)\n",
    "    hulkEtte455 = set()\n",
    "    for i in ette455:\n",
    "        hulkEtte455.add(i.strftime(\"%d.%m.%Y\"))\n",
    "    # print(hulkEtte455)\n",
    "    print(\"\\n\\n455-päevane tagasiulatuv periood\\t\" + ette455[0].strftime(\"%d.%m.%Y\") + \"\\t\" + ette455[-1].strftime(\n",
    "        \"%d.%m.%Y\") + \"\\t, millest töötati \" + str(len(\n",
    "        kõikidelRegistreeringutelTöötamisePäevad & hulkEtte455)) + \" kalendripäeva. Jääk (365 - \" + str(\n",
    "        len((kõikidelRegistreeringutelTöötamisePäevad & hulkEtte455))) + \") on \" + str(\n",
    "        365 - len((kõikidelRegistreeringutelTöötamisePäevad & hulkEtte455))) + \" päeva.\\n\")\n",
    "    # print(\"\\n455-päevane tagasiulatuv periood:\\t\" + ette455[0].strftime(\"%d.%m.%Y\") + \"\\t\" + ette455[-1].strftime(\n",
    "    #     \"%d.%m.%Y\"))\n",
    "    # print(\"Kõikidest töötamise päevadest jääb 455-päevase perioodi \", ette455[0].strftime(\"%d.%m.%Y\"), \"\\t\",\n",
    "    #       ette455[-1].strftime(\"%d.%m.%Y\"), \" sisse \", len((kõikidelRegistreeringutelTöötamisePäevad & hulkEtte455)),\n",
    "    #       \" kalendripäeva. Kasutamata jääk ( 365 - \", len((kõikidelRegistreeringutelTöötamisePäevad & hulkEtte455)),\n",
    "    #       \") on \", 365 - len((kõikidelRegistreeringutelTöötamisePäevad & hulkEtte455)), \" päeva.\\n\")\n",
    "\n",
    "    # print(hulkEtte455 - töötatudPäevadeHulkIlmaPeatamisteta)\n",
    "\n",
    "    ##loome 455 päevase perioodi edasi poole\n",
    "    edasi455 = pd.date_range(start=perioodiKuupäev, periods=455)\n",
    "    hulkEdasi455 = set()\n",
    "    for i in edasi455:\n",
    "        hulkEdasi455.add(i.strftime(\"%d.%m.%Y\"))\n",
    "    print(\"455-päevane edasiulatuv periood\\t\" + edasi455[0].strftime(\"%d.%m.%Y\") + \"\\t\" + edasi455[-1].strftime(\n",
    "        \"%d.%m.%Y\") + \"\\t, millest töötati \" + str(len(\n",
    "        kõikidelRegistreeringutelTöötamisePäevad & hulkEdasi455)) + \" kalendripäeva. Jääk (365 - \" + str(\n",
    "        len((kõikidelRegistreeringutelTöötamisePäevad & hulkEdasi455))) + \") on \" + str(\n",
    "        365 - len((kõikidelRegistreeringutelTöötamisePäevad & hulkEdasi455))) + \" päeva.\\n\")\n",
    "    #print(\"Kõikidest töötamise päevadest jääb 455-päevase perioodi \", edasi455[0].strftime(\"%d.%m.%Y\"), \"\\t\",\n",
    "    #edasi455[-1].strftime(\"%d.%m.%Y\"), \" sisse \", len((kõikidelRegistreeringutelTöötamisePäevad & hulkEdasi455)),\n",
    "    #\" kalendripäeva. Kasutamata jääk ( 365 - \", len((kõikidelRegistreeringutelTöötamisePäevad & hulkEdasi455)), \") on \",\n",
    "    #365 - len((kõikidelRegistreeringutelTöötamisePäevad & hulkEdasi455)), \" päeva.\\n\")\n",
    "\n",
    "    ##loome 365 päevase perioodi ettepoole\n",
    "    ette365 = pd.date_range(end=perioodiKuupäev, periods=365)\n",
    "    hulkEtte365 = set()\n",
    "    for i in ette365:\n",
    "        hulkEtte365.add(i.strftime(\"%d.%m.%Y\"))\n",
    "    print(\"365-päevane tagasiulatuv periood\\t\" + ette365[0].strftime(\"%d.%m.%Y\") + \"\\t\" + ette365[-1].strftime(\n",
    "        \"%d.%m.%Y\") + \"\\t, millest töötati \" + str(len(\n",
    "        kõikidelRegistreeringutelTöötamisePäevad & hulkEtte365)) + \" kalendripäeva. Jääk (270 - \" + str(\n",
    "        len((kõikidelRegistreeringutelTöötamisePäevad & hulkEtte365))) + \") on \" + str(\n",
    "        270 - len((kõikidelRegistreeringutelTöötamisePäevad & hulkEtte365))) + \" päeva.\\n\")\n",
    "    # print(\"365-päevane tagasiulatuv periood:\\t\" + ette365[0].strftime(\"%d.%m.%Y\") + \"\\t\" + ette365[-1].strftime(\n",
    "    #     \"%d.%m.%Y\"))\n",
    "    # print(\"Kõikidest töötamise päevadest jääb 455-päevase perioodi \", ette365[0].strftime(\"%d.%m.%Y\"), \"\\t\",\n",
    "    # ette365[-1].strftime(\"%d.%m.%Y\"), \" sisse \", len((kõikidelRegistreeringutelTöötamisePäevad & hulkEtte365)),\n",
    "    # \" kalendripäeva. Kasutamata jääk ( 270 - \", len((kõikidelRegistreeringutelTöötamisePäevad & hulkEtte365)), \") on \",\n",
    "    # 270 - len((kõikidelRegistreeringutelTöötamisePäevad & hulkEtte365)), \" päeva.\\n\")\n",
    "\n",
    "    ##loome 365 päevase perioodi edasi poole\n",
    "    edasi365 = pd.date_range(start=perioodiKuupäev, periods=365)\n",
    "    hulkEdasi365 = set()\n",
    "    for i in edasi365:\n",
    "        hulkEdasi365.add(i.strftime(\"%d.%m.%Y\"))\n",
    "    print(\"365-päevane edasiulatuv periood\\t\" + edasi365[0].strftime(\"%d.%m.%Y\") + \"\\t\" + edasi365[-1].strftime(\n",
    "        \"%d.%m.%Y\") + \"\\t, millest töötati \" + str(len(\n",
    "        kõikidelRegistreeringutelTöötamisePäevad & hulkEdasi365)) + \" kalendripäeva. Jääk (270 - \" + str(\n",
    "        len((kõikidelRegistreeringutelTöötamisePäevad & hulkEdasi365))) + \") on \" + str(\n",
    "        270 - len((kõikidelRegistreeringutelTöötamisePäevad & hulkEdasi365))) + \" päeva.\\n\")\n",
    "    # print(\"365-päevane edasiulatuv periood:\\t\" + edasi365[0].strftime(\"%d.%m.%Y\") + \"\\t\" + edasi365[-1].strftime(\n",
    "    #     \"%d.%m.%Y\"))\n",
    "    # print(\"Kõikidest töötamise päevadest jääb 455-päevase perioodi \", edasi365[0].strftime(\"%d.%m.%Y\"), \"\\t\",\n",
    "    # edasi365[-1].strftime(\"%d.%m.%Y\"), \" sisse \", len((kõikidelRegistreeringutelTöötamisePäevad & hulkEdasi365)),\n",
    "    # \" kalendripäeva. Kasutamata jääk ( 270 - \", len((kõikidelRegistreeringutelTöötamisePäevad & hulkEdasi365)), \") on \",\n",
    "    # 270 - len((kõikidelRegistreeringutelTöötamisePäevad & hulkEdasi365)), \" päeva.\\n\")\n",
    "\n",
    "\n",
    "\n",
    "    if (input(\"\\nKas väljastame andmed CSV faili? (J/E) \").upper() == \"J\"):\n",
    "        failiNimi = \"TÖR_\" + kirjeKanded['perenimi'].title() + \"_\" + kirjeKanded[\n",
    "            'eesnimi'].title() + \"_\" + datetime.now().strftime(\"%Y%m%d%H%M%S\") + \".csv\"\n",
    "        f = open(failiNimi.replace(' ','_'), \"a\", encoding=\"UTF-8\")\n",
    "        f.write(\"test\" + \"\\n\")\n",
    "        f.write(\"test\")\n",
    "        f.close()\n",
    "        print(\"Faili '\" + failiNimi.replace(' ','_') + \"' kirjutamine lõppes edukalt. Leiad selle skriptiga samast kaustast\")\n",
    "        os.system(failiNimi.replace(' ','_'))\n",
    "        del (failiNimi)\n",
    "\n",
    "    ##print(leitud)\n",
    "\n",
    "    ##print(sisendPuu)\n",
    "\n",
    "    #input()"
   ]
  },
  {
   "cell_type": "code",
   "execution_count": null,
   "id": "f69ca639",
   "metadata": {},
   "outputs": [],
   "source": [
    "print(\"Kas soovid perioodid kuvada diagrammil? J/E\")\n"
   ]
  },
  {
   "cell_type": "code",
   "execution_count": 20,
   "id": "d928f2f4",
   "metadata": {
    "scrolled": false
   },
   "outputs": [
    {
     "data": {
      "application/vnd.plotly.v1+json": {
       "config": {
        "plotlyServerURL": "https://plot.ly"
       },
       "data": [
        {
         "fill": "toself",
         "fillcolor": "rgb(148, 103, 189)",
         "hoverinfo": "name",
         "legendgroup": "rgb(148, 103, 189)",
         "mode": "none",
         "name": "Ajaraam tagasi",
         "showlegend": true,
         "type": "scatter",
         "x": [
          "2020-06-17",
          "2021-09-14",
          "2021-09-14",
          "2020-06-17",
          "2020-06-17",
          "2020-09-15",
          "2021-09-14",
          "2021-09-14",
          "2020-09-15",
          "2020-09-15",
          "2020-12-19",
          "2021-09-14",
          "2021-09-14",
          "2020-12-19"
         ],
         "y": [
          3.8,
          3.8,
          4.2,
          4.2,
          null,
          1.8,
          1.8,
          2.2,
          2.2,
          null,
          -0.2,
          -0.2,
          0.2,
          0.2
         ]
        },
        {
         "fill": "toself",
         "fillcolor": "rgb(214, 39, 40)",
         "hoverinfo": "name",
         "legendgroup": "rgb(214, 39, 40)",
         "mode": "none",
         "name": "Ajaraam edasi",
         "showlegend": true,
         "type": "scatter",
         "x": [
          "2021-09-14",
          "2022-12-12",
          "2022-12-12",
          "2021-09-14",
          "2021-09-14",
          "2021-09-14",
          "2022-09-13",
          "2022-09-13",
          "2021-09-14",
          "2021-09-14",
          "2021-09-14",
          "2022-06-10",
          "2022-06-10",
          "2021-09-14"
         ],
         "y": [
          4.8,
          4.8,
          5.2,
          5.2,
          null,
          2.8,
          2.8,
          3.2,
          3.2,
          null,
          0.8,
          0.8,
          1.2,
          1.2
         ]
        },
        {
         "fill": "toself",
         "fillcolor": "rgb(255, 127, 14)",
         "hoverinfo": "name",
         "legendgroup": "rgb(255, 127, 14)",
         "mode": "none",
         "name": "13.02.2020 - 15.08.2020",
         "showlegend": true,
         "type": "scatter",
         "x": [
          "2020-02-13 00:00:00",
          "2020-08-15 00:00:00",
          "2020-08-15 00:00:00",
          "2020-02-13 00:00:00"
         ],
         "y": [
          5.8,
          5.8,
          6.2,
          6.2
         ]
        },
        {
         "fill": "toself",
         "fillcolor": "rgb(31, 119, 180)",
         "hoverinfo": "name",
         "legendgroup": "rgb(31, 119, 180)",
         "mode": "none",
         "name": "12.07.2019 - 03.11.2019",
         "showlegend": true,
         "type": "scatter",
         "x": [
          "2019-07-12 00:00:00",
          "2019-11-03 00:00:00",
          "2019-11-03 00:00:00",
          "2019-07-12 00:00:00"
         ],
         "y": [
          6.8,
          6.8,
          7.2,
          7.2
         ]
        },
        {
         "fill": "toself",
         "fillcolor": "rgb(44, 160, 44)",
         "hoverinfo": "name",
         "legendgroup": "rgb(44, 160, 44)",
         "mode": "none",
         "name": "14.05.2019 - 14.06.2019",
         "showlegend": true,
         "type": "scatter",
         "x": [
          "2019-05-14 00:00:00",
          "2019-06-14 00:00:00",
          "2019-06-14 00:00:00",
          "2019-05-14 00:00:00"
         ],
         "y": [
          7.8,
          7.8,
          8.2,
          8.2
         ]
        },
        {
         "legendgroup": "rgb(148, 103, 189)",
         "marker": {
          "color": "rgb(148, 103, 189)",
          "opacity": 0,
          "size": 1
         },
         "mode": "markers",
         "name": "",
         "showlegend": false,
         "text": [
          null,
          null,
          null,
          null,
          null,
          null
         ],
         "type": "scatter",
         "x": [
          "2020-06-17",
          "2021-09-14",
          "2020-09-15",
          "2021-09-14",
          "2020-12-19",
          "2021-09-14"
         ],
         "y": [
          4,
          4,
          2,
          2,
          0,
          0
         ]
        },
        {
         "legendgroup": "rgb(214, 39, 40)",
         "marker": {
          "color": "rgb(214, 39, 40)",
          "opacity": 0,
          "size": 1
         },
         "mode": "markers",
         "name": "",
         "showlegend": false,
         "text": [
          null,
          null,
          null,
          null,
          null,
          null
         ],
         "type": "scatter",
         "x": [
          "2021-09-14",
          "2022-12-12",
          "2021-09-14",
          "2022-09-13",
          "2021-09-14",
          "2022-06-10"
         ],
         "y": [
          5,
          5,
          3,
          3,
          1,
          1
         ]
        },
        {
         "legendgroup": "rgb(255, 127, 14)",
         "marker": {
          "color": "rgb(255, 127, 14)",
          "opacity": 0,
          "size": 1
         },
         "mode": "markers",
         "name": "",
         "showlegend": false,
         "text": [
          "valikuline täiendav kirjeldus",
          "valikuline täiendav kirjeldus"
         ],
         "type": "scatter",
         "x": [
          "2020-02-13 00:00:00",
          "2020-08-15 00:00:00"
         ],
         "y": [
          6,
          6
         ]
        },
        {
         "legendgroup": "rgb(31, 119, 180)",
         "marker": {
          "color": "rgb(31, 119, 180)",
          "opacity": 0,
          "size": 1
         },
         "mode": "markers",
         "name": "",
         "showlegend": false,
         "text": [
          "valikuline täiendav kirjeldus",
          "valikuline täiendav kirjeldus"
         ],
         "type": "scatter",
         "x": [
          "2019-07-12 00:00:00",
          "2019-11-03 00:00:00"
         ],
         "y": [
          7,
          7
         ]
        },
        {
         "legendgroup": "rgb(44, 160, 44)",
         "marker": {
          "color": "rgb(44, 160, 44)",
          "opacity": 0,
          "size": 1
         },
         "mode": "markers",
         "name": "",
         "showlegend": false,
         "text": [
          "valikuline täiendav kirjeldus",
          "valikuline täiendav kirjeldus"
         ],
         "type": "scatter",
         "x": [
          "2019-05-14 00:00:00",
          "2019-06-14 00:00:00"
         ],
         "y": [
          8,
          8
         ]
        }
       ],
       "layout": {
        "height": 400,
        "hovermode": "x unified",
        "showlegend": true,
        "template": {
         "data": {
          "bar": [
           {
            "error_x": {
             "color": "#2a3f5f"
            },
            "error_y": {
             "color": "#2a3f5f"
            },
            "marker": {
             "line": {
              "color": "#E5ECF6",
              "width": 0.5
             }
            },
            "type": "bar"
           }
          ],
          "barpolar": [
           {
            "marker": {
             "line": {
              "color": "#E5ECF6",
              "width": 0.5
             }
            },
            "type": "barpolar"
           }
          ],
          "carpet": [
           {
            "aaxis": {
             "endlinecolor": "#2a3f5f",
             "gridcolor": "white",
             "linecolor": "white",
             "minorgridcolor": "white",
             "startlinecolor": "#2a3f5f"
            },
            "baxis": {
             "endlinecolor": "#2a3f5f",
             "gridcolor": "white",
             "linecolor": "white",
             "minorgridcolor": "white",
             "startlinecolor": "#2a3f5f"
            },
            "type": "carpet"
           }
          ],
          "choropleth": [
           {
            "colorbar": {
             "outlinewidth": 0,
             "ticks": ""
            },
            "type": "choropleth"
           }
          ],
          "contour": [
           {
            "colorbar": {
             "outlinewidth": 0,
             "ticks": ""
            },
            "colorscale": [
             [
              0,
              "#0d0887"
             ],
             [
              0.1111111111111111,
              "#46039f"
             ],
             [
              0.2222222222222222,
              "#7201a8"
             ],
             [
              0.3333333333333333,
              "#9c179e"
             ],
             [
              0.4444444444444444,
              "#bd3786"
             ],
             [
              0.5555555555555556,
              "#d8576b"
             ],
             [
              0.6666666666666666,
              "#ed7953"
             ],
             [
              0.7777777777777778,
              "#fb9f3a"
             ],
             [
              0.8888888888888888,
              "#fdca26"
             ],
             [
              1,
              "#f0f921"
             ]
            ],
            "type": "contour"
           }
          ],
          "contourcarpet": [
           {
            "colorbar": {
             "outlinewidth": 0,
             "ticks": ""
            },
            "type": "contourcarpet"
           }
          ],
          "heatmap": [
           {
            "colorbar": {
             "outlinewidth": 0,
             "ticks": ""
            },
            "colorscale": [
             [
              0,
              "#0d0887"
             ],
             [
              0.1111111111111111,
              "#46039f"
             ],
             [
              0.2222222222222222,
              "#7201a8"
             ],
             [
              0.3333333333333333,
              "#9c179e"
             ],
             [
              0.4444444444444444,
              "#bd3786"
             ],
             [
              0.5555555555555556,
              "#d8576b"
             ],
             [
              0.6666666666666666,
              "#ed7953"
             ],
             [
              0.7777777777777778,
              "#fb9f3a"
             ],
             [
              0.8888888888888888,
              "#fdca26"
             ],
             [
              1,
              "#f0f921"
             ]
            ],
            "type": "heatmap"
           }
          ],
          "heatmapgl": [
           {
            "colorbar": {
             "outlinewidth": 0,
             "ticks": ""
            },
            "colorscale": [
             [
              0,
              "#0d0887"
             ],
             [
              0.1111111111111111,
              "#46039f"
             ],
             [
              0.2222222222222222,
              "#7201a8"
             ],
             [
              0.3333333333333333,
              "#9c179e"
             ],
             [
              0.4444444444444444,
              "#bd3786"
             ],
             [
              0.5555555555555556,
              "#d8576b"
             ],
             [
              0.6666666666666666,
              "#ed7953"
             ],
             [
              0.7777777777777778,
              "#fb9f3a"
             ],
             [
              0.8888888888888888,
              "#fdca26"
             ],
             [
              1,
              "#f0f921"
             ]
            ],
            "type": "heatmapgl"
           }
          ],
          "histogram": [
           {
            "marker": {
             "colorbar": {
              "outlinewidth": 0,
              "ticks": ""
             }
            },
            "type": "histogram"
           }
          ],
          "histogram2d": [
           {
            "colorbar": {
             "outlinewidth": 0,
             "ticks": ""
            },
            "colorscale": [
             [
              0,
              "#0d0887"
             ],
             [
              0.1111111111111111,
              "#46039f"
             ],
             [
              0.2222222222222222,
              "#7201a8"
             ],
             [
              0.3333333333333333,
              "#9c179e"
             ],
             [
              0.4444444444444444,
              "#bd3786"
             ],
             [
              0.5555555555555556,
              "#d8576b"
             ],
             [
              0.6666666666666666,
              "#ed7953"
             ],
             [
              0.7777777777777778,
              "#fb9f3a"
             ],
             [
              0.8888888888888888,
              "#fdca26"
             ],
             [
              1,
              "#f0f921"
             ]
            ],
            "type": "histogram2d"
           }
          ],
          "histogram2dcontour": [
           {
            "colorbar": {
             "outlinewidth": 0,
             "ticks": ""
            },
            "colorscale": [
             [
              0,
              "#0d0887"
             ],
             [
              0.1111111111111111,
              "#46039f"
             ],
             [
              0.2222222222222222,
              "#7201a8"
             ],
             [
              0.3333333333333333,
              "#9c179e"
             ],
             [
              0.4444444444444444,
              "#bd3786"
             ],
             [
              0.5555555555555556,
              "#d8576b"
             ],
             [
              0.6666666666666666,
              "#ed7953"
             ],
             [
              0.7777777777777778,
              "#fb9f3a"
             ],
             [
              0.8888888888888888,
              "#fdca26"
             ],
             [
              1,
              "#f0f921"
             ]
            ],
            "type": "histogram2dcontour"
           }
          ],
          "mesh3d": [
           {
            "colorbar": {
             "outlinewidth": 0,
             "ticks": ""
            },
            "type": "mesh3d"
           }
          ],
          "parcoords": [
           {
            "line": {
             "colorbar": {
              "outlinewidth": 0,
              "ticks": ""
             }
            },
            "type": "parcoords"
           }
          ],
          "pie": [
           {
            "automargin": true,
            "type": "pie"
           }
          ],
          "scatter": [
           {
            "marker": {
             "colorbar": {
              "outlinewidth": 0,
              "ticks": ""
             }
            },
            "type": "scatter"
           }
          ],
          "scatter3d": [
           {
            "line": {
             "colorbar": {
              "outlinewidth": 0,
              "ticks": ""
             }
            },
            "marker": {
             "colorbar": {
              "outlinewidth": 0,
              "ticks": ""
             }
            },
            "type": "scatter3d"
           }
          ],
          "scattercarpet": [
           {
            "marker": {
             "colorbar": {
              "outlinewidth": 0,
              "ticks": ""
             }
            },
            "type": "scattercarpet"
           }
          ],
          "scattergeo": [
           {
            "marker": {
             "colorbar": {
              "outlinewidth": 0,
              "ticks": ""
             }
            },
            "type": "scattergeo"
           }
          ],
          "scattergl": [
           {
            "marker": {
             "colorbar": {
              "outlinewidth": 0,
              "ticks": ""
             }
            },
            "type": "scattergl"
           }
          ],
          "scattermapbox": [
           {
            "marker": {
             "colorbar": {
              "outlinewidth": 0,
              "ticks": ""
             }
            },
            "type": "scattermapbox"
           }
          ],
          "scatterpolar": [
           {
            "marker": {
             "colorbar": {
              "outlinewidth": 0,
              "ticks": ""
             }
            },
            "type": "scatterpolar"
           }
          ],
          "scatterpolargl": [
           {
            "marker": {
             "colorbar": {
              "outlinewidth": 0,
              "ticks": ""
             }
            },
            "type": "scatterpolargl"
           }
          ],
          "scatterternary": [
           {
            "marker": {
             "colorbar": {
              "outlinewidth": 0,
              "ticks": ""
             }
            },
            "type": "scatterternary"
           }
          ],
          "surface": [
           {
            "colorbar": {
             "outlinewidth": 0,
             "ticks": ""
            },
            "colorscale": [
             [
              0,
              "#0d0887"
             ],
             [
              0.1111111111111111,
              "#46039f"
             ],
             [
              0.2222222222222222,
              "#7201a8"
             ],
             [
              0.3333333333333333,
              "#9c179e"
             ],
             [
              0.4444444444444444,
              "#bd3786"
             ],
             [
              0.5555555555555556,
              "#d8576b"
             ],
             [
              0.6666666666666666,
              "#ed7953"
             ],
             [
              0.7777777777777778,
              "#fb9f3a"
             ],
             [
              0.8888888888888888,
              "#fdca26"
             ],
             [
              1,
              "#f0f921"
             ]
            ],
            "type": "surface"
           }
          ],
          "table": [
           {
            "cells": {
             "fill": {
              "color": "#EBF0F8"
             },
             "line": {
              "color": "white"
             }
            },
            "header": {
             "fill": {
              "color": "#C8D4E3"
             },
             "line": {
              "color": "white"
             }
            },
            "type": "table"
           }
          ]
         },
         "layout": {
          "annotationdefaults": {
           "arrowcolor": "#2a3f5f",
           "arrowhead": 0,
           "arrowwidth": 1
          },
          "autotypenumbers": "strict",
          "coloraxis": {
           "colorbar": {
            "outlinewidth": 0,
            "ticks": ""
           }
          },
          "colorscale": {
           "diverging": [
            [
             0,
             "#8e0152"
            ],
            [
             0.1,
             "#c51b7d"
            ],
            [
             0.2,
             "#de77ae"
            ],
            [
             0.3,
             "#f1b6da"
            ],
            [
             0.4,
             "#fde0ef"
            ],
            [
             0.5,
             "#f7f7f7"
            ],
            [
             0.6,
             "#e6f5d0"
            ],
            [
             0.7,
             "#b8e186"
            ],
            [
             0.8,
             "#7fbc41"
            ],
            [
             0.9,
             "#4d9221"
            ],
            [
             1,
             "#276419"
            ]
           ],
           "sequential": [
            [
             0,
             "#0d0887"
            ],
            [
             0.1111111111111111,
             "#46039f"
            ],
            [
             0.2222222222222222,
             "#7201a8"
            ],
            [
             0.3333333333333333,
             "#9c179e"
            ],
            [
             0.4444444444444444,
             "#bd3786"
            ],
            [
             0.5555555555555556,
             "#d8576b"
            ],
            [
             0.6666666666666666,
             "#ed7953"
            ],
            [
             0.7777777777777778,
             "#fb9f3a"
            ],
            [
             0.8888888888888888,
             "#fdca26"
            ],
            [
             1,
             "#f0f921"
            ]
           ],
           "sequentialminus": [
            [
             0,
             "#0d0887"
            ],
            [
             0.1111111111111111,
             "#46039f"
            ],
            [
             0.2222222222222222,
             "#7201a8"
            ],
            [
             0.3333333333333333,
             "#9c179e"
            ],
            [
             0.4444444444444444,
             "#bd3786"
            ],
            [
             0.5555555555555556,
             "#d8576b"
            ],
            [
             0.6666666666666666,
             "#ed7953"
            ],
            [
             0.7777777777777778,
             "#fb9f3a"
            ],
            [
             0.8888888888888888,
             "#fdca26"
            ],
            [
             1,
             "#f0f921"
            ]
           ]
          },
          "colorway": [
           "#636efa",
           "#EF553B",
           "#00cc96",
           "#ab63fa",
           "#FFA15A",
           "#19d3f3",
           "#FF6692",
           "#B6E880",
           "#FF97FF",
           "#FECB52"
          ],
          "font": {
           "color": "#2a3f5f"
          },
          "geo": {
           "bgcolor": "white",
           "lakecolor": "white",
           "landcolor": "#E5ECF6",
           "showlakes": true,
           "showland": true,
           "subunitcolor": "white"
          },
          "hoverlabel": {
           "align": "left"
          },
          "hovermode": "closest",
          "mapbox": {
           "style": "light"
          },
          "paper_bgcolor": "white",
          "plot_bgcolor": "#E5ECF6",
          "polar": {
           "angularaxis": {
            "gridcolor": "white",
            "linecolor": "white",
            "ticks": ""
           },
           "bgcolor": "#E5ECF6",
           "radialaxis": {
            "gridcolor": "white",
            "linecolor": "white",
            "ticks": ""
           }
          },
          "scene": {
           "xaxis": {
            "backgroundcolor": "#E5ECF6",
            "gridcolor": "white",
            "gridwidth": 2,
            "linecolor": "white",
            "showbackground": true,
            "ticks": "",
            "zerolinecolor": "white"
           },
           "yaxis": {
            "backgroundcolor": "#E5ECF6",
            "gridcolor": "white",
            "gridwidth": 2,
            "linecolor": "white",
            "showbackground": true,
            "ticks": "",
            "zerolinecolor": "white"
           },
           "zaxis": {
            "backgroundcolor": "#E5ECF6",
            "gridcolor": "white",
            "gridwidth": 2,
            "linecolor": "white",
            "showbackground": true,
            "ticks": "",
            "zerolinecolor": "white"
           }
          },
          "shapedefaults": {
           "line": {
            "color": "#2a3f5f"
           }
          },
          "ternary": {
           "aaxis": {
            "gridcolor": "white",
            "linecolor": "white",
            "ticks": ""
           },
           "baxis": {
            "gridcolor": "white",
            "linecolor": "white",
            "ticks": ""
           },
           "bgcolor": "#E5ECF6",
           "caxis": {
            "gridcolor": "white",
            "linecolor": "white",
            "ticks": ""
           }
          },
          "title": {
           "x": 0.05
          },
          "xaxis": {
           "automargin": true,
           "gridcolor": "white",
           "linecolor": "white",
           "ticks": "",
           "title": {
            "standoff": 15
           },
           "zerolinecolor": "white",
           "zerolinewidth": 2
          },
          "yaxis": {
           "automargin": true,
           "gridcolor": "white",
           "linecolor": "white",
           "ticks": "",
           "title": {
            "standoff": 15
           },
           "zerolinecolor": "white",
           "zerolinewidth": 2
          }
         }
        },
        "title": {
         "text": "Ajavahemike Gantti diagramm tänase  seisuga"
        },
        "xaxis": {
         "rangeselector": {
          "buttons": [
           {
            "count": 7,
            "label": "1w",
            "step": "day",
            "stepmode": "backward"
           },
           {
            "count": 1,
            "label": "1m",
            "step": "month",
            "stepmode": "backward"
           },
           {
            "count": 6,
            "label": "6m",
            "step": "month",
            "stepmode": "backward"
           },
           {
            "count": 1,
            "label": "YTD",
            "step": "year",
            "stepmode": "todate"
           },
           {
            "count": 1,
            "label": "1y",
            "step": "year",
            "stepmode": "backward"
           },
           {
            "step": "all"
           }
          ]
         },
         "showgrid": false,
         "type": "date",
         "zeroline": false
        },
        "yaxis": {
         "autorange": false,
         "range": [
          -1,
          10
         ],
         "showgrid": true,
         "ticktext": [
          "270 päeva tagasi",
          "270 päeva edasi",
          "365 päeva tagasi",
          "365 päeva edasi",
          "455 päeva tagasi",
          "455 päeva edasi",
          "13.02.2020 - 15.08.2020\t185",
          "12.07.2019 - 03.11.2019\t115",
          "14.05.2019 - 14.06.2019\t32"
         ],
         "tickvals": [
          0,
          1,
          2,
          3,
          4,
          5,
          6,
          7,
          8
         ],
         "zeroline": false
        }
       }
      },
      "text/html": [
       "<div>                            <div id=\"620945af-d9ed-431a-b11f-b00b0aff3c8f\" class=\"plotly-graph-div\" style=\"height:400px; width:100%;\"></div>            <script type=\"text/javascript\">                require([\"plotly\"], function(Plotly) {                    window.PLOTLYENV=window.PLOTLYENV || {};                                    if (document.getElementById(\"620945af-d9ed-431a-b11f-b00b0aff3c8f\")) {                    Plotly.newPlot(                        \"620945af-d9ed-431a-b11f-b00b0aff3c8f\",                        [{\"fill\": \"toself\", \"fillcolor\": \"rgb(148, 103, 189)\", \"hoverinfo\": \"name\", \"legendgroup\": \"rgb(148, 103, 189)\", \"mode\": \"none\", \"name\": \"Ajaraam tagasi\", \"showlegend\": true, \"type\": \"scatter\", \"x\": [\"2020-06-17\", \"2021-09-14\", \"2021-09-14\", \"2020-06-17\", \"2020-06-17\", \"2020-09-15\", \"2021-09-14\", \"2021-09-14\", \"2020-09-15\", \"2020-09-15\", \"2020-12-19\", \"2021-09-14\", \"2021-09-14\", \"2020-12-19\"], \"y\": [3.8, 3.8, 4.2, 4.2, null, 1.8, 1.8, 2.2, 2.2, null, -0.2, -0.2, 0.2, 0.2]}, {\"fill\": \"toself\", \"fillcolor\": \"rgb(214, 39, 40)\", \"hoverinfo\": \"name\", \"legendgroup\": \"rgb(214, 39, 40)\", \"mode\": \"none\", \"name\": \"Ajaraam edasi\", \"showlegend\": true, \"type\": \"scatter\", \"x\": [\"2021-09-14\", \"2022-12-12\", \"2022-12-12\", \"2021-09-14\", \"2021-09-14\", \"2021-09-14\", \"2022-09-13\", \"2022-09-13\", \"2021-09-14\", \"2021-09-14\", \"2021-09-14\", \"2022-06-10\", \"2022-06-10\", \"2021-09-14\"], \"y\": [4.8, 4.8, 5.2, 5.2, null, 2.8, 2.8, 3.2, 3.2, null, 0.8, 0.8, 1.2, 1.2]}, {\"fill\": \"toself\", \"fillcolor\": \"rgb(255, 127, 14)\", \"hoverinfo\": \"name\", \"legendgroup\": \"rgb(255, 127, 14)\", \"mode\": \"none\", \"name\": \"13.02.2020 - 15.08.2020\", \"showlegend\": true, \"type\": \"scatter\", \"x\": [\"2020-02-13 00:00:00\", \"2020-08-15 00:00:00\", \"2020-08-15 00:00:00\", \"2020-02-13 00:00:00\"], \"y\": [5.8, 5.8, 6.2, 6.2]}, {\"fill\": \"toself\", \"fillcolor\": \"rgb(31, 119, 180)\", \"hoverinfo\": \"name\", \"legendgroup\": \"rgb(31, 119, 180)\", \"mode\": \"none\", \"name\": \"12.07.2019 - 03.11.2019\", \"showlegend\": true, \"type\": \"scatter\", \"x\": [\"2019-07-12 00:00:00\", \"2019-11-03 00:00:00\", \"2019-11-03 00:00:00\", \"2019-07-12 00:00:00\"], \"y\": [6.8, 6.8, 7.2, 7.2]}, {\"fill\": \"toself\", \"fillcolor\": \"rgb(44, 160, 44)\", \"hoverinfo\": \"name\", \"legendgroup\": \"rgb(44, 160, 44)\", \"mode\": \"none\", \"name\": \"14.05.2019 - 14.06.2019\", \"showlegend\": true, \"type\": \"scatter\", \"x\": [\"2019-05-14 00:00:00\", \"2019-06-14 00:00:00\", \"2019-06-14 00:00:00\", \"2019-05-14 00:00:00\"], \"y\": [7.8, 7.8, 8.2, 8.2]}, {\"legendgroup\": \"rgb(148, 103, 189)\", \"marker\": {\"color\": \"rgb(148, 103, 189)\", \"opacity\": 0, \"size\": 1}, \"mode\": \"markers\", \"name\": \"\", \"showlegend\": false, \"text\": [null, null, null, null, null, null], \"type\": \"scatter\", \"x\": [\"2020-06-17\", \"2021-09-14\", \"2020-09-15\", \"2021-09-14\", \"2020-12-19\", \"2021-09-14\"], \"y\": [4, 4, 2, 2, 0, 0]}, {\"legendgroup\": \"rgb(214, 39, 40)\", \"marker\": {\"color\": \"rgb(214, 39, 40)\", \"opacity\": 0, \"size\": 1}, \"mode\": \"markers\", \"name\": \"\", \"showlegend\": false, \"text\": [null, null, null, null, null, null], \"type\": \"scatter\", \"x\": [\"2021-09-14\", \"2022-12-12\", \"2021-09-14\", \"2022-09-13\", \"2021-09-14\", \"2022-06-10\"], \"y\": [5, 5, 3, 3, 1, 1]}, {\"legendgroup\": \"rgb(255, 127, 14)\", \"marker\": {\"color\": \"rgb(255, 127, 14)\", \"opacity\": 0, \"size\": 1}, \"mode\": \"markers\", \"name\": \"\", \"showlegend\": false, \"text\": [\"valikuline t\\u00e4iendav kirjeldus\", \"valikuline t\\u00e4iendav kirjeldus\"], \"type\": \"scatter\", \"x\": [\"2020-02-13 00:00:00\", \"2020-08-15 00:00:00\"], \"y\": [6, 6]}, {\"legendgroup\": \"rgb(31, 119, 180)\", \"marker\": {\"color\": \"rgb(31, 119, 180)\", \"opacity\": 0, \"size\": 1}, \"mode\": \"markers\", \"name\": \"\", \"showlegend\": false, \"text\": [\"valikuline t\\u00e4iendav kirjeldus\", \"valikuline t\\u00e4iendav kirjeldus\"], \"type\": \"scatter\", \"x\": [\"2019-07-12 00:00:00\", \"2019-11-03 00:00:00\"], \"y\": [7, 7]}, {\"legendgroup\": \"rgb(44, 160, 44)\", \"marker\": {\"color\": \"rgb(44, 160, 44)\", \"opacity\": 0, \"size\": 1}, \"mode\": \"markers\", \"name\": \"\", \"showlegend\": false, \"text\": [\"valikuline t\\u00e4iendav kirjeldus\", \"valikuline t\\u00e4iendav kirjeldus\"], \"type\": \"scatter\", \"x\": [\"2019-05-14 00:00:00\", \"2019-06-14 00:00:00\"], \"y\": [8, 8]}],                        {\"height\": 400, \"hovermode\": \"x unified\", \"showlegend\": true, \"template\": {\"data\": {\"bar\": [{\"error_x\": {\"color\": \"#2a3f5f\"}, \"error_y\": {\"color\": \"#2a3f5f\"}, \"marker\": {\"line\": {\"color\": \"#E5ECF6\", \"width\": 0.5}}, \"type\": \"bar\"}], \"barpolar\": [{\"marker\": {\"line\": {\"color\": \"#E5ECF6\", \"width\": 0.5}}, \"type\": \"barpolar\"}], \"carpet\": [{\"aaxis\": {\"endlinecolor\": \"#2a3f5f\", \"gridcolor\": \"white\", \"linecolor\": \"white\", \"minorgridcolor\": \"white\", \"startlinecolor\": \"#2a3f5f\"}, \"baxis\": {\"endlinecolor\": \"#2a3f5f\", \"gridcolor\": \"white\", \"linecolor\": \"white\", \"minorgridcolor\": \"white\", \"startlinecolor\": \"#2a3f5f\"}, \"type\": \"carpet\"}], \"choropleth\": [{\"colorbar\": {\"outlinewidth\": 0, \"ticks\": \"\"}, \"type\": \"choropleth\"}], \"contour\": [{\"colorbar\": {\"outlinewidth\": 0, \"ticks\": \"\"}, \"colorscale\": [[0.0, \"#0d0887\"], [0.1111111111111111, \"#46039f\"], [0.2222222222222222, \"#7201a8\"], [0.3333333333333333, \"#9c179e\"], [0.4444444444444444, \"#bd3786\"], [0.5555555555555556, \"#d8576b\"], [0.6666666666666666, \"#ed7953\"], [0.7777777777777778, \"#fb9f3a\"], [0.8888888888888888, \"#fdca26\"], [1.0, \"#f0f921\"]], \"type\": \"contour\"}], \"contourcarpet\": [{\"colorbar\": {\"outlinewidth\": 0, \"ticks\": \"\"}, \"type\": \"contourcarpet\"}], \"heatmap\": [{\"colorbar\": {\"outlinewidth\": 0, \"ticks\": \"\"}, \"colorscale\": [[0.0, \"#0d0887\"], [0.1111111111111111, \"#46039f\"], [0.2222222222222222, \"#7201a8\"], [0.3333333333333333, \"#9c179e\"], [0.4444444444444444, \"#bd3786\"], [0.5555555555555556, \"#d8576b\"], [0.6666666666666666, \"#ed7953\"], [0.7777777777777778, \"#fb9f3a\"], [0.8888888888888888, \"#fdca26\"], [1.0, \"#f0f921\"]], \"type\": \"heatmap\"}], \"heatmapgl\": [{\"colorbar\": {\"outlinewidth\": 0, \"ticks\": \"\"}, \"colorscale\": [[0.0, \"#0d0887\"], [0.1111111111111111, \"#46039f\"], [0.2222222222222222, \"#7201a8\"], [0.3333333333333333, \"#9c179e\"], [0.4444444444444444, \"#bd3786\"], [0.5555555555555556, \"#d8576b\"], [0.6666666666666666, \"#ed7953\"], [0.7777777777777778, \"#fb9f3a\"], [0.8888888888888888, \"#fdca26\"], [1.0, \"#f0f921\"]], \"type\": \"heatmapgl\"}], \"histogram\": [{\"marker\": {\"colorbar\": {\"outlinewidth\": 0, \"ticks\": \"\"}}, \"type\": \"histogram\"}], \"histogram2d\": [{\"colorbar\": {\"outlinewidth\": 0, \"ticks\": \"\"}, \"colorscale\": [[0.0, \"#0d0887\"], [0.1111111111111111, \"#46039f\"], [0.2222222222222222, \"#7201a8\"], [0.3333333333333333, \"#9c179e\"], [0.4444444444444444, \"#bd3786\"], [0.5555555555555556, \"#d8576b\"], [0.6666666666666666, \"#ed7953\"], [0.7777777777777778, \"#fb9f3a\"], [0.8888888888888888, \"#fdca26\"], [1.0, \"#f0f921\"]], \"type\": \"histogram2d\"}], \"histogram2dcontour\": [{\"colorbar\": {\"outlinewidth\": 0, \"ticks\": \"\"}, \"colorscale\": [[0.0, \"#0d0887\"], [0.1111111111111111, \"#46039f\"], [0.2222222222222222, \"#7201a8\"], [0.3333333333333333, \"#9c179e\"], [0.4444444444444444, \"#bd3786\"], [0.5555555555555556, \"#d8576b\"], [0.6666666666666666, \"#ed7953\"], [0.7777777777777778, \"#fb9f3a\"], [0.8888888888888888, \"#fdca26\"], [1.0, \"#f0f921\"]], \"type\": \"histogram2dcontour\"}], \"mesh3d\": [{\"colorbar\": {\"outlinewidth\": 0, \"ticks\": \"\"}, \"type\": \"mesh3d\"}], \"parcoords\": [{\"line\": {\"colorbar\": {\"outlinewidth\": 0, \"ticks\": \"\"}}, \"type\": \"parcoords\"}], \"pie\": [{\"automargin\": true, \"type\": \"pie\"}], \"scatter\": [{\"marker\": {\"colorbar\": {\"outlinewidth\": 0, \"ticks\": \"\"}}, \"type\": \"scatter\"}], \"scatter3d\": [{\"line\": {\"colorbar\": {\"outlinewidth\": 0, \"ticks\": \"\"}}, \"marker\": {\"colorbar\": {\"outlinewidth\": 0, \"ticks\": \"\"}}, \"type\": \"scatter3d\"}], \"scattercarpet\": [{\"marker\": {\"colorbar\": {\"outlinewidth\": 0, \"ticks\": \"\"}}, \"type\": \"scattercarpet\"}], \"scattergeo\": [{\"marker\": {\"colorbar\": {\"outlinewidth\": 0, \"ticks\": \"\"}}, \"type\": \"scattergeo\"}], \"scattergl\": [{\"marker\": {\"colorbar\": {\"outlinewidth\": 0, \"ticks\": \"\"}}, \"type\": \"scattergl\"}], \"scattermapbox\": [{\"marker\": {\"colorbar\": {\"outlinewidth\": 0, \"ticks\": \"\"}}, \"type\": \"scattermapbox\"}], \"scatterpolar\": [{\"marker\": {\"colorbar\": {\"outlinewidth\": 0, \"ticks\": \"\"}}, \"type\": \"scatterpolar\"}], \"scatterpolargl\": [{\"marker\": {\"colorbar\": {\"outlinewidth\": 0, \"ticks\": \"\"}}, \"type\": \"scatterpolargl\"}], \"scatterternary\": [{\"marker\": {\"colorbar\": {\"outlinewidth\": 0, \"ticks\": \"\"}}, \"type\": \"scatterternary\"}], \"surface\": [{\"colorbar\": {\"outlinewidth\": 0, \"ticks\": \"\"}, \"colorscale\": [[0.0, \"#0d0887\"], [0.1111111111111111, \"#46039f\"], [0.2222222222222222, \"#7201a8\"], [0.3333333333333333, \"#9c179e\"], [0.4444444444444444, \"#bd3786\"], [0.5555555555555556, \"#d8576b\"], [0.6666666666666666, \"#ed7953\"], [0.7777777777777778, \"#fb9f3a\"], [0.8888888888888888, \"#fdca26\"], [1.0, \"#f0f921\"]], \"type\": \"surface\"}], \"table\": [{\"cells\": {\"fill\": {\"color\": \"#EBF0F8\"}, \"line\": {\"color\": \"white\"}}, \"header\": {\"fill\": {\"color\": \"#C8D4E3\"}, \"line\": {\"color\": \"white\"}}, \"type\": \"table\"}]}, \"layout\": {\"annotationdefaults\": {\"arrowcolor\": \"#2a3f5f\", \"arrowhead\": 0, \"arrowwidth\": 1}, \"autotypenumbers\": \"strict\", \"coloraxis\": {\"colorbar\": {\"outlinewidth\": 0, \"ticks\": \"\"}}, \"colorscale\": {\"diverging\": [[0, \"#8e0152\"], [0.1, \"#c51b7d\"], [0.2, \"#de77ae\"], [0.3, \"#f1b6da\"], [0.4, \"#fde0ef\"], [0.5, \"#f7f7f7\"], [0.6, \"#e6f5d0\"], [0.7, \"#b8e186\"], [0.8, \"#7fbc41\"], [0.9, \"#4d9221\"], [1, \"#276419\"]], \"sequential\": [[0.0, \"#0d0887\"], [0.1111111111111111, \"#46039f\"], [0.2222222222222222, \"#7201a8\"], [0.3333333333333333, \"#9c179e\"], [0.4444444444444444, \"#bd3786\"], [0.5555555555555556, \"#d8576b\"], [0.6666666666666666, \"#ed7953\"], [0.7777777777777778, \"#fb9f3a\"], [0.8888888888888888, \"#fdca26\"], [1.0, \"#f0f921\"]], \"sequentialminus\": [[0.0, \"#0d0887\"], [0.1111111111111111, \"#46039f\"], [0.2222222222222222, \"#7201a8\"], [0.3333333333333333, \"#9c179e\"], [0.4444444444444444, \"#bd3786\"], [0.5555555555555556, \"#d8576b\"], [0.6666666666666666, \"#ed7953\"], [0.7777777777777778, \"#fb9f3a\"], [0.8888888888888888, \"#fdca26\"], [1.0, \"#f0f921\"]]}, \"colorway\": [\"#636efa\", \"#EF553B\", \"#00cc96\", \"#ab63fa\", \"#FFA15A\", \"#19d3f3\", \"#FF6692\", \"#B6E880\", \"#FF97FF\", \"#FECB52\"], \"font\": {\"color\": \"#2a3f5f\"}, \"geo\": {\"bgcolor\": \"white\", \"lakecolor\": \"white\", \"landcolor\": \"#E5ECF6\", \"showlakes\": true, \"showland\": true, \"subunitcolor\": \"white\"}, \"hoverlabel\": {\"align\": \"left\"}, \"hovermode\": \"closest\", \"mapbox\": {\"style\": \"light\"}, \"paper_bgcolor\": \"white\", \"plot_bgcolor\": \"#E5ECF6\", \"polar\": {\"angularaxis\": {\"gridcolor\": \"white\", \"linecolor\": \"white\", \"ticks\": \"\"}, \"bgcolor\": \"#E5ECF6\", \"radialaxis\": {\"gridcolor\": \"white\", \"linecolor\": \"white\", \"ticks\": \"\"}}, \"scene\": {\"xaxis\": {\"backgroundcolor\": \"#E5ECF6\", \"gridcolor\": \"white\", \"gridwidth\": 2, \"linecolor\": \"white\", \"showbackground\": true, \"ticks\": \"\", \"zerolinecolor\": \"white\"}, \"yaxis\": {\"backgroundcolor\": \"#E5ECF6\", \"gridcolor\": \"white\", \"gridwidth\": 2, \"linecolor\": \"white\", \"showbackground\": true, \"ticks\": \"\", \"zerolinecolor\": \"white\"}, \"zaxis\": {\"backgroundcolor\": \"#E5ECF6\", \"gridcolor\": \"white\", \"gridwidth\": 2, \"linecolor\": \"white\", \"showbackground\": true, \"ticks\": \"\", \"zerolinecolor\": \"white\"}}, \"shapedefaults\": {\"line\": {\"color\": \"#2a3f5f\"}}, \"ternary\": {\"aaxis\": {\"gridcolor\": \"white\", \"linecolor\": \"white\", \"ticks\": \"\"}, \"baxis\": {\"gridcolor\": \"white\", \"linecolor\": \"white\", \"ticks\": \"\"}, \"bgcolor\": \"#E5ECF6\", \"caxis\": {\"gridcolor\": \"white\", \"linecolor\": \"white\", \"ticks\": \"\"}}, \"title\": {\"x\": 0.05}, \"xaxis\": {\"automargin\": true, \"gridcolor\": \"white\", \"linecolor\": \"white\", \"ticks\": \"\", \"title\": {\"standoff\": 15}, \"zerolinecolor\": \"white\", \"zerolinewidth\": 2}, \"yaxis\": {\"automargin\": true, \"gridcolor\": \"white\", \"linecolor\": \"white\", \"ticks\": \"\", \"title\": {\"standoff\": 15}, \"zerolinecolor\": \"white\", \"zerolinewidth\": 2}}}, \"title\": {\"text\": \"Ajavahemike Gantti diagramm t\\u00e4nase  seisuga\"}, \"xaxis\": {\"rangeselector\": {\"buttons\": [{\"count\": 7, \"label\": \"1w\", \"step\": \"day\", \"stepmode\": \"backward\"}, {\"count\": 1, \"label\": \"1m\", \"step\": \"month\", \"stepmode\": \"backward\"}, {\"count\": 6, \"label\": \"6m\", \"step\": \"month\", \"stepmode\": \"backward\"}, {\"count\": 1, \"label\": \"YTD\", \"step\": \"year\", \"stepmode\": \"todate\"}, {\"count\": 1, \"label\": \"1y\", \"step\": \"year\", \"stepmode\": \"backward\"}, {\"step\": \"all\"}]}, \"showgrid\": false, \"type\": \"date\", \"zeroline\": false}, \"yaxis\": {\"autorange\": false, \"range\": [-1, 10], \"showgrid\": true, \"ticktext\": [\"270 p\\u00e4eva tagasi\", \"270 p\\u00e4eva edasi\", \"365 p\\u00e4eva tagasi\", \"365 p\\u00e4eva edasi\", \"455 p\\u00e4eva tagasi\", \"455 p\\u00e4eva edasi\", \"13.02.2020 - 15.08.2020\\t185\", \"12.07.2019 - 03.11.2019\\t115\", \"14.05.2019 - 14.06.2019\\t32\"], \"tickvals\": [0, 1, 2, 3, 4, 5, 6, 7, 8], \"zeroline\": false}},                        {\"responsive\": true}                    ).then(function(){\n",
       "                            \n",
       "var gd = document.getElementById('620945af-d9ed-431a-b11f-b00b0aff3c8f');\n",
       "var x = new MutationObserver(function (mutations, observer) {{\n",
       "        var display = window.getComputedStyle(gd).display;\n",
       "        if (!display || display === 'none') {{\n",
       "            console.log([gd, 'removed!']);\n",
       "            Plotly.purge(gd);\n",
       "            observer.disconnect();\n",
       "        }}\n",
       "}});\n",
       "\n",
       "// Listen for the removal of the full notebook cells\n",
       "var notebookContainer = gd.closest('#notebook-container');\n",
       "if (notebookContainer) {{\n",
       "    x.observe(notebookContainer, {childList: true});\n",
       "}}\n",
       "\n",
       "// Listen for the clearing of the current output cell\n",
       "var outputEl = gd.closest('.output');\n",
       "if (outputEl) {{\n",
       "    x.observe(outputEl, {childList: true});\n",
       "}}\n",
       "\n",
       "                        })                };                });            </script>        </div>"
      ]
     },
     "metadata": {},
     "output_type": "display_data"
    }
   ],
   "source": [
    "data = [{'Task': '14.05.2019 - 14.06.2019\\t32', 'Start': '2019-05-14 00:00:00', 'Finish': '2019-06-14 00:00:00', 'Resource': '14.05.2019 - 14.06.2019', 'Description': 'valikuline täiendav kirjeldus'}, {'Task': '12.07.2019 - 03.11.2019\\t115', 'Start': '2019-07-12 00:00:00', 'Finish': '2019-11-03 00:00:00', 'Resource': '12.07.2019 - 03.11.2019', 'Description': 'valikuline täiendav kirjeldus'}, {'Task': '13.02.2020 - 15.08.2020\\t185', 'Start': '2020-02-13 00:00:00', 'Finish': '2020-08-15 00:00:00', 'Resource': '13.02.2020 - 15.08.2020', 'Description': 'valikuline täiendav kirjeldus'}, {'Task': '455 päeva edasi', 'Start': '2021-09-14', 'Finish': '2022-12-12', 'Resource': 'Ajaraam edasi'}, {'Task': '455 päeva tagasi', 'Start': '2020-06-17', 'Finish': '2021-09-14', 'Resource': 'Ajaraam tagasi'}, {'Task': '365 päeva edasi', 'Start': '2021-09-14', 'Finish': '2022-09-13', 'Resource': 'Ajaraam edasi'}, {'Task': '365 päeva tagasi', 'Start': '2020-09-15', 'Finish': '2021-09-14', 'Resource': 'Ajaraam tagasi'}, {'Task': '270 päeva edasi', 'Start': '2021-09-14', 'Finish': '2022-06-10', 'Resource': 'Ajaraam edasi'}, {'Task': '270 päeva tagasi', 'Start': '2020-12-19', 'Finish': '2021-09-14', 'Resource': 'Ajaraam tagasi'}]\n",
    "\n",
    "fig = ff.create_gantt(data,title=\"Ajavahemike Gantti diagramm tänase \"+' seisuga',index_col='Resource', show_colorbar=True,group_tasks=True,showgrid_y=True,show_hover_fill=True)\n",
    "fig.update_layout(hovermode=\"x unified\", height=400)\n",
    "fig.show()"
   ]
  },
  {
   "cell_type": "code",
   "execution_count": null,
   "id": "054cab7e",
   "metadata": {},
   "outputs": [],
   "source": []
  }
 ],
 "metadata": {
  "kernelspec": {
   "display_name": "Python 3 (ipykernel)",
   "language": "python",
   "name": "python3"
  },
  "language_info": {
   "codemirror_mode": {
    "name": "ipython",
    "version": 3
   },
   "file_extension": ".py",
   "mimetype": "text/x-python",
   "name": "python",
   "nbconvert_exporter": "python",
   "pygments_lexer": "ipython3",
   "version": "3.9.2"
  }
 },
 "nbformat": 4,
 "nbformat_minor": 5
}
